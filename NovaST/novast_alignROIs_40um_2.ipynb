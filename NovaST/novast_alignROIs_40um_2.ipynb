{
 "cells": [
  {
   "cell_type": "code",
   "execution_count": 2,
   "id": "cadf322f-2df7-46e2-a6fa-c069dbe86a34",
   "metadata": {},
   "outputs": [],
   "source": [
    "import tiff\n",
    "import numpy as np\n",
    "import pandas as pd\n",
    "from PIL import Image\n",
    "import scanpy as sc\n"
   ]
  },
  {
   "cell_type": "code",
   "execution_count": null,
   "id": "1d555767",
   "metadata": {},
   "outputs": [],
   "source": []
  },
  {
   "cell_type": "markdown",
   "id": "611c2fae",
   "metadata": {},
   "source": [
    "## Align adata with region masks generated in qupath"
   ]
  },
  {
   "cell_type": "code",
   "execution_count": null,
   "id": "275b4d2f",
   "metadata": {},
   "outputs": [],
   "source": [
    "\n",
    "samples = {\n",
    "    \"B1S3\": {\n",
    "        \"adata_path\": \"/staging/leuven/stg_00079/projects/analysis/LecMicro/NovaST/00.DeepSeq/MPC__527489__AB195-default_adata.h5ad\",\n",
    "        \"image_paths\": [\n",
    "            \"../../100.Segmentation/B1S3/B1S3_ROI_polygon_mask_raw.tif\",\n",
    "            \"../../100.Segmentation/B1S3/B1S3_str_polygon_mask_raw.tif\",\n",
    "            \"../../100.Segmentation/B1S3/B1S3_th_polygon_mask_raw.tif\",\n",
    "            \"../../100.Segmentation/B1S3/B1S3_crx_polygon_mask_raw.tif\",\n",
    "            \"../../100.Segmentation/B1S3/B1S3_hip_polygon_mask_raw.tif\"\n",
    "        ],\n",
    "        \"rotate_angle\": -90,\n",
    "        \"mirror\": False\n",
    "    },\n",
    "    \"B1S4\": {\n",
    "        \"adata_path\": \"/staging/leuven/stg_00079/projects/LecMicro/NovaST/00.DeepSeq/MPC__b261e5__AB193-default_adata.h5ad\",\n",
    "        \"image_paths\": [\n",
    "            \"../../100.Segmentation/B1S4/B1S4_ROI_polygon_mask_raw.tif\",\n",
    "            \"../../100.Segmentation/B1S4/B1S4_str_polygon_mask_raw.tif\",\n",
    "            \"../../100.Segmentation/B1S4/B1S4_th_polygon_mask_raw.tif\",\n",
    "            \"../../100.Segmentation/B1S4/B1S4_crx_polygon_mask_raw.tif\",\n",
    "            \"../../100.Segmentation/B1S4/B1S4_hip_polygon_mask_raw.tif\"\n",
    "        ],\n",
    "        \"rotate_angle\": 90,\n",
    "        \"mirror\": False\n",
    "    },\n",
    "    \"B2S3\": {\n",
    "        \"adata_path\": \"/staging/leuven/stg_00079/projects/analysis/LecMicro/NovaST/00.DeepSeq/MPC__6b38af__AB202-default_adata.h5ad\",\n",
    "        \"image_paths\": [\n",
    "            \"../../100.Segmentation/B2S3/B2S3_ROI_polygon_mask_raw.tif\",\n",
    "            \"../../100.Segmentation/B2S3/B2S3_str_polygon_mask_raw.tif\",\n",
    "            \"../../100.Segmentation/B2S3/B2S3_th_polygon_mask_raw.tif\",\n",
    "            \"../../100.Segmentation/B2S3/B2S3_crx_polygon_mask_raw.tif\",\n",
    "            \"../../100.Segmentation/B2S3/B2S3_hip_polygon_mask_raw.tif\"\n",
    "        ],\n",
    "        \"rotate_angle\": -90,\n",
    "        \"mirror\": False\n",
    "    },\n",
    "    \"B2S4\": {\n",
    "        \"adata_path\": \"/staging/leuven/stg_00079/projects/analysis/LecMicro/NovaST/00.DeepSeq/MPC__9100be__AB204-default_adata.h5ad\",\n",
    "        \"image_paths\": [\n",
    "            \"../../100.Segmentation/B2S4/B2S4_ROI_polygon_mask_raw.tif\",\n",
    "            \"../../100.Segmentation/B2S4/B2S4_str_polygon_mask_raw.tif\",\n",
    "            \"../../100.Segmentation/B2S4/B2S4_th_polygon_mask_raw.tif\",\n",
    "            \"../../100.Segmentation/B2S4/B2S4_crx_polygon_mask_raw.tif\",\n",
    "            \"../../100.Segmentation/B2S4/B2S4_hip_polygon_mask_raw.tif\"\n",
    "        ],\n",
    "        \"rotate_angle\": 90,\n",
    "        \"mirror\": True  # Add the mirror flag here for B2S4\n",
    "    }\n",
    "}\n",
    "\n",
    "# Function to apply mask to AnnData object\n",
    "def apply_mask_to_adata(mask_image, adata, roi_column_name):\n",
    "    mask_array = np.array(mask_image)\n",
    "    threshold = 128\n",
    "    mask_binary = mask_array > threshold\n",
    "    x_coords = adata.obs['x'].astype(int).values\n",
    "    y_coords = adata.obs['y'].astype(int).values\n",
    "\n",
    "    height, width = mask_binary.shape\n",
    "    valid_mask = (x_coords >= 0) & (x_coords < width) & (y_coords >= 0) & (y_coords < height)\n",
    "\n",
    "    adata.obs[roi_column_name] = False\n",
    "    adata.obs.loc[valid_mask, roi_column_name] = mask_binary[y_coords[valid_mask], x_coords[valid_mask]]\n",
    "\n",
    "# Loop through samples\n",
    "for sample, sample_info in samples.items():\n",
    "\n",
    "    adata = sc.read_h5ad(sample_info[\"adata_path\"])\n",
    "    \n",
    "    # Assign x / y coordinates\n",
    "    adata.obs[\"x\"] = adata.obsm[\"spatial_um\"][:, 0]\n",
    "    adata.obs[\"y\"] = adata.obsm[\"spatial_um\"][:, 1]\n",
    "\n",
    "    # process each ROI image for the current sample\n",
    "    rotated_images = []\n",
    "    for image_path in sample_info[\"image_paths\"]:\n",
    "        image = tiff.imread(image_path)\n",
    "        image_pil = Image.fromarray(image)\n",
    "        \n",
    "        # rotate  image\n",
    "        image_rotated = image_pil.rotate(sample_info[\"rotate_angle\"], expand=True)\n",
    "        \n",
    "        # mirror the image if required (b2s4 needs mirroring)\n",
    "        if sample_info[\"mirror\"]:\n",
    "            image_rotated = image_rotated.transpose(Image.FLIP_LEFT_RIGHT)\n",
    "        \n",
    "        # Convert back to nparray\n",
    "        image_rotated_np = np.array(image_rotated)\n",
    "        rotated_images.append(image_rotated_np)\n",
    "\n",
    "    # Apply masks to the objects\n",
    "    roi_columns = ['sample_ROI', 'str_ROI', 'th_ROI', 'crx_ROI', 'hip_ROI']\n",
    "    for mask_image, roi_column in zip(rotated_images, roi_columns):\n",
    "        apply_mask_to_adata(mask_image, adata, roi_column)\n",
    "\n",
    "    for roi_column in roi_columns:\n",
    "        adata.obs[roi_column] = adata.obs[roi_column].astype('category')\n",
    "\n",
    "    # Create region column\n",
    "    adata.obs['region'] = np.select(\n",
    "        [adata.obs['str_ROI'], adata.obs['th_ROI'], adata.obs['crx_ROI'], adata.obs['hip_ROI']],\n",
    "        ['str', 'th', 'crx', 'hip'],\n",
    "        default='unknown'\n",
    "    )\n",
    "\n",
    "    adata.obs.loc[(adata.obs['sample_ROI'] == True) & (adata.obs['region'] == 'unknown'), 'region'] = 'sample'\n",
    "\n",
    "    adata.write_h5ad(f'../{sample}_40um_regionAssignment.h5ad')\n"
   ]
  },
  {
   "cell_type": "code",
   "execution_count": null,
   "id": "85f4c219",
   "metadata": {},
   "outputs": [],
   "source": []
  },
  {
   "cell_type": "markdown",
   "id": "64d53001",
   "metadata": {},
   "source": [
    "# merge all objects"
   ]
  },
  {
   "cell_type": "code",
   "execution_count": null,
   "id": "2b38f2c5",
   "metadata": {},
   "outputs": [],
   "source": [
    "B1S3 = sc.read_h5ad('../B1S3_40um_regionAssignment.h5ad')\n",
    "B1S4 = sc.read_h5ad('../B1S4_40um_regionAssignment.h5ad')\n",
    "B2S3 = sc.read_h5ad('../B2S3_40um_regionAssignment.h5ad')\n",
    "B2S4 = sc.read_h5ad('../B2S4_40um_regionAssignment.h5ad')\n"
   ]
  },
  {
   "cell_type": "code",
   "execution_count": null,
   "id": "bad1a8f2",
   "metadata": {},
   "outputs": [],
   "source": [
    "\n",
    "objects = {\n",
    "    'B1S3': B1S3,\n",
    "    'B1S4': B1S4,\n",
    "    'B2S3': B2S3,\n",
    "    'B2S4': B2S4\n",
    "}\n",
    "\n",
    "# Iterate over dictionary, set  'sample' column\n",
    "for prefix, obj in objects.items():\n",
    "    obj.obs['sample'] = prefix"
   ]
  },
  {
   "cell_type": "code",
   "execution_count": null,
   "id": "302b0c52",
   "metadata": {},
   "outputs": [],
   "source": [
    "# modify indices to make sure unique\n",
    "\n",
    "for prefix, obj in objects.items():\n",
    "    obj.obs.index = [prefix + str(i) for i in obj.obs.index]"
   ]
  },
  {
   "cell_type": "code",
   "execution_count": null,
   "id": "6ade74b6",
   "metadata": {},
   "outputs": [],
   "source": [
    "combined_adata = sc.concat([B1S3, B1S4, B2S3, B2S4])"
   ]
  },
  {
   "cell_type": "code",
   "execution_count": null,
   "id": "233f547e",
   "metadata": {},
   "outputs": [],
   "source": [
    "# Add human/mouse columns in var\n",
    "combined_adata.var[\"human\"] = combined_adata.var_names.str.startswith(\"GRCh38_\")\n",
    "combined_adata.var[\"mouse\"] = combined_adata.var_names.str.startswith(\"mm10__\")\n",
    "    \n",
    "sc.pp.calculate_qc_metrics(combined_adata, qc_vars=[\"human\", \"mouse\"], inplace=True)"
   ]
  },
  {
   "cell_type": "code",
   "execution_count": null,
   "id": "c4930275",
   "metadata": {},
   "outputs": [],
   "source": [
    "combined_adata.write_h5ad('./40um_allRegions_combined.h5ad')"
   ]
  },
  {
   "cell_type": "code",
   "execution_count": null,
   "id": "fb755df7",
   "metadata": {},
   "outputs": [],
   "source": [
    "combined_crx = combined_adata[combined_adata.obs['region'] == 'crx_ROI']\n",
    "combined_crx.write_h5ad('./40um_allCrx_combined.h5ad')"
   ]
  },
  {
   "cell_type": "code",
   "execution_count": null,
   "id": "612c0438",
   "metadata": {},
   "outputs": [],
   "source": [
    "B1S3_crx  = B1S3[B1S3.obs['region'] == 'crx_ROI']\n",
    "B1S4_crx= B1S4[B1S4.obs['region'] == 'crx_ROI']\n",
    "B2S3_crx= B2S3[B2S3.obs['region'] == 'crx_ROI']\n",
    "B2S4_crx= B2S4[B2S4.obs['region'] == 'crx_ROI']\n",
    "\n",
    "B1S3_crx.write_h5ad('./40um_B1S3_crx.h5ad')\n",
    "B1S4_crx.write_h5ad('./40um_B1S4_crx.h5ad')\n",
    "B2S3_crx.write_h5ad('./40um_B2S3_crx.h5ad')\n",
    "B2S4_crx.write_h5ad('./40um_B2S4_crx.h5ad')"
   ]
  },
  {
   "cell_type": "code",
   "execution_count": null,
   "id": "00fc5e16",
   "metadata": {},
   "outputs": [],
   "source": []
  },
  {
   "cell_type": "code",
   "execution_count": null,
   "id": "22c585ce",
   "metadata": {},
   "outputs": [],
   "source": []
  },
  {
   "cell_type": "code",
   "execution_count": null,
   "id": "569ca96f",
   "metadata": {},
   "outputs": [],
   "source": []
  },
  {
   "cell_type": "code",
   "execution_count": null,
   "id": "1a945bf9",
   "metadata": {},
   "outputs": [],
   "source": []
  }
 ],
 "metadata": {
  "kernelspec": {
   "display_name": "py38_07SEP2022_b",
   "language": "python",
   "name": "py38_07sep2022"
  },
  "language_info": {
   "codemirror_mode": {
    "name": "ipython",
    "version": 3
   },
   "file_extension": ".py",
   "mimetype": "text/x-python",
   "name": "python",
   "nbconvert_exporter": "python",
   "pygments_lexer": "ipython3",
   "version": "3.8.13"
  }
 },
 "nbformat": 4,
 "nbformat_minor": 5
}
