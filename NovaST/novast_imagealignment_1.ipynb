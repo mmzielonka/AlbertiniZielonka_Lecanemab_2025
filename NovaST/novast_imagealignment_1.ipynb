{
 "cells": [
  {
   "cell_type": "code",
   "execution_count": null,
   "metadata": {},
   "outputs": [],
   "source": [
    "import scanpy as sc\n",
    "import numpy as np\n",
    "import matplotlib.pyplot as plt\n",
    "from PIL import Image\n",
    "import tifffile \n",
    "import os\n"
   ]
  },
  {
   "cell_type": "code",
   "execution_count": null,
   "metadata": {},
   "outputs": [],
   "source": [
    "#read in adatas\n",
    "b1s3_adata = sc.read_h5ad(\"/staging/leuven/stg_00079/projects/analysis/LecMicro/NovaST/00.DeepSeq/MPC__527489__AB195-default_adata.h5ad\")\n",
    "b1s4_adata = sc.read_h5ad(\"/staging/leuven/stg_00079/projects/analysis/LecMicro/NovaST/00.DeepSeq/MPC__b261e5__AB193-default_adata.h5ad\")\n",
    "b2s3_adata = sc.read_h5ad(\"/staging/leuven/stg_00079/projects/analysis/LecMicro/NovaST/00.DeepSeq/MPC__6b38af__AB202-default_adata.h5ad\")\n",
    "b2s4_adata = sc.read_h5ad(\"/staging/leuven/stg_00079/projects/analysis/LecMicro/NovaST/00.DeepSeq/MPC__9100be__AB204-default_adata.h5ad\")\n"
   ]
  },
  {
   "cell_type": "code",
   "execution_count": null,
   "metadata": {},
   "outputs": [],
   "source": [
    "# Define a function to subset data \n",
    "def assign_species_and_subset(adata, column_name=\"species\", gene_prefix=\"GRCh38_\"):\n",
    "    adata.var[column_name] = np.where(adata.var['gene_symbol'].str.startswith(gene_prefix), \"human\", \"mouse\")\n",
    "    return adata[:, adata.var[column_name] == \"human\"]\n",
    "\n",
    "# Apply  function to all samples\n",
    "b1s3_adata_human = assign_species_and_subset(b1s3_adata)\n",
    "b1s4_adata_human = assign_species_and_subset(b1s4_adata)\n",
    "b2s3_adata_human = assign_species_and_subset(b2s3_adata)\n",
    "b2s4_adata_human = assign_species_and_subset(b2s4_adata)\n",
    "\n",
    "# Add spatial coordinates to the `obsm` attribute\n",
    "for adata_human in [b1s3_adata_human, b1s4_adata_human, b2s3_adata_human, b2s4_adata_human]:\n",
    "    adata_human.obsm[\"spatial\"] = adata_human.obs[[\"x\", \"y\"]].values\n"
   ]
  },
  {
   "cell_type": "code",
   "execution_count": null,
   "metadata": {},
   "outputs": [],
   "source": []
  },
  {
   "cell_type": "markdown",
   "metadata": {},
   "source": [
    "## Determine rotation needed between images and h5ad coordinates for each sample"
   ]
  },
  {
   "cell_type": "markdown",
   "metadata": {},
   "source": [
    "### B1S3"
   ]
  },
  {
   "cell_type": "code",
   "execution_count": null,
   "metadata": {},
   "outputs": [],
   "source": [
    "dapi_path = \"/staging/leuven/stg_00079/projects/Lec_Micro/100.NovaST/Imaging_DeepSeq/B1S3/TransformedB1S3_DS_c4.tif\"\n",
    "dapi_image = Image.open(dapi_path)\n"
   ]
  },
  {
   "cell_type": "code",
   "execution_count": null,
   "metadata": {},
   "outputs": [],
   "source": [
    "spatial_coords = adata_human.obsm['spatial']  \n",
    "x_coords = spatial_coords[:, 0]\n",
    "y_coords = spatial_coords[:, 1]"
   ]
  },
  {
   "cell_type": "code",
   "execution_count": null,
   "metadata": {},
   "outputs": [],
   "source": [
    "dapi_rotated = dapi_image.rotate(-90, expand=True)  # Rotate 90 degrees to the left\n"
   ]
  },
  {
   "cell_type": "code",
   "execution_count": null,
   "metadata": {},
   "outputs": [],
   "source": [
    "#Get DAPI image dimensions\n",
    "img_width, img_height = dapi_rotated.size\n",
    "\n",
    "# Normalize spatial coordinates to the image dimensions\n",
    "x_coords_scaled = (x_coords / x_coords.max()) * img_width\n",
    "y_coords_scaled = (y_coords / y_coords.max()) * img_height"
   ]
  },
  {
   "cell_type": "code",
   "execution_count": null,
   "metadata": {},
   "outputs": [],
   "source": [
    "# Convert the image to a NumPy array\n",
    "dapi_rotated_array = np.array(dapi_rotated)\n",
    "\n",
    "plt.figure(figsize=(x_coords_scaled.max()/150,y_coords_scaled.max()/150))\n",
    "\n",
    "plt.scatter(x_coords_scaled, y_coords_scaled, c='red', s=0.0015, alpha=0.5, label='Spots')\n",
    "plt.imshow(dapi_rotated_array, cmap='gray')\n",
    "\n",
    "# Ensure the axes match the image\n",
    "plt.xlim(0, dapi_rotated_array.shape[1])  \n",
    "plt.ylim(0, dapi_rotated_array.shape[0]) \n"
   ]
  },
  {
   "cell_type": "code",
   "execution_count": null,
   "metadata": {},
   "outputs": [],
   "source": [
    "\n",
    "# Generate the new filename\n",
    "base_name, ext = os.path.splitext(dapi_path)  # Split filename and extension\n",
    "new_filename = f\"{base_name}_rotated{ext}\"  # Append '_rotated' to filename\n",
    "\n",
    "# Save the rotated image with the same dimensions\n",
    "tifffile.imwrite(new_filename, dapi_rotated_array)\n",
    "\n",
    "print(f\"Rotated image saved as: {new_filename}\")"
   ]
  },
  {
   "cell_type": "code",
   "execution_count": null,
   "metadata": {},
   "outputs": [],
   "source": []
  },
  {
   "cell_type": "markdown",
   "metadata": {},
   "source": [
    "### B1S4"
   ]
  },
  {
   "cell_type": "code",
   "execution_count": null,
   "metadata": {},
   "outputs": [],
   "source": [
    "dapi_path = \"/staging/leuven/stg_00079/projects/Lec_Micro/100.NovaST/Imaging_DeepSeq/B1S4/TransformedB1S4_DS_c4.tif\"\n",
    "dapi_image = Image.open(dapi_path)"
   ]
  },
  {
   "cell_type": "code",
   "execution_count": null,
   "metadata": {},
   "outputs": [],
   "source": [
    "spatial_coords = adata_human.obsm['spatial'] \n",
    "x_coords = spatial_coords[:, 0]\n",
    "y_coords = spatial_coords[:, 1]"
   ]
  },
  {
   "cell_type": "code",
   "execution_count": null,
   "metadata": {},
   "outputs": [],
   "source": [
    "dapi_rotated = dapi_image.rotate(90, expand=True)  # Rotate 90 degrees to the right\n"
   ]
  },
  {
   "cell_type": "code",
   "execution_count": null,
   "metadata": {},
   "outputs": [],
   "source": [
    "#Get DAPI image dimensions\n",
    "img_width, img_height = dapi_rotated.size\n",
    "\n",
    "# Normalize spatial coordinates to the image dimensions\n",
    "x_coords_scaled = (x_coords / x_coords.max()) * img_width\n",
    "y_coords_scaled = (y_coords / y_coords.max()) * img_height"
   ]
  },
  {
   "cell_type": "code",
   "execution_count": null,
   "metadata": {},
   "outputs": [],
   "source": [
    "# Convert the image to a NumPy array\n",
    "dapi_rotated_array = np.array(dapi_rotated)\n",
    "\n",
    "plt.figure(figsize=(x_coords_scaled.max()/150,y_coords_scaled.max()/150))\n",
    "\n",
    "plt.scatter(x_coords_scaled, y_coords_scaled, c='red', s=0.0015, alpha=0.5, label='Spots')\n",
    "plt.imshow(dapi_rotated_array, cmap='gray')\n",
    "\n",
    "# Ensure the axes match the image\n",
    "plt.xlim(0, dapi_rotated_array.shape[1]) \n",
    "plt.ylim(0, dapi_rotated_array.shape[0])\n",
    "\n"
   ]
  },
  {
   "cell_type": "code",
   "execution_count": null,
   "metadata": {},
   "outputs": [],
   "source": [
    "base_name, ext = os.path.splitext(dapi_path)  \n",
    "new_filename = f\"{base_name}_rotated{ext}\"  \n",
    "\n",
    "# Save the rotated image with the same dimensions\n",
    "tifffile.imwrite(new_filename, dapi_rotated_array)\n",
    "\n",
    "print(f\"Rotated image saved as: {new_filename}\")"
   ]
  },
  {
   "cell_type": "code",
   "execution_count": null,
   "metadata": {},
   "outputs": [],
   "source": []
  },
  {
   "cell_type": "code",
   "execution_count": null,
   "metadata": {},
   "outputs": [],
   "source": []
  },
  {
   "cell_type": "markdown",
   "metadata": {},
   "source": [
    "### B2S3"
   ]
  },
  {
   "cell_type": "code",
   "execution_count": null,
   "metadata": {},
   "outputs": [],
   "source": [
    "dapi_path = \"/staging/leuven/stg_00079/projects/Lec_Micro/100.NovaST/Imaging_DeepSeq/B2S3/TransformedB2S3_DS_c4.tif\"\n",
    "dapi_image = Image.open(dapi_path)"
   ]
  },
  {
   "cell_type": "code",
   "execution_count": null,
   "metadata": {},
   "outputs": [],
   "source": [
    "spatial_coords = b2s3_adata_human.obsm['spatial'] \n",
    "x_coords = spatial_coords[:, 0]\n",
    "y_coords = spatial_coords[:, 1]"
   ]
  },
  {
   "cell_type": "code",
   "execution_count": null,
   "metadata": {},
   "outputs": [],
   "source": [
    "dapi_rotated = dapi_image.rotate(90, expand=True)  # Rotate 90 degrees to the right\n"
   ]
  },
  {
   "cell_type": "code",
   "execution_count": null,
   "metadata": {},
   "outputs": [],
   "source": [
    "img_width, img_height = dapi_rotated.size\n",
    "x_coords_scaled = (x_coords / x_coords.max()) * img_width\n",
    "y_coords_scaled = (y_coords / y_coords.max()) * img_height"
   ]
  },
  {
   "cell_type": "code",
   "execution_count": null,
   "metadata": {},
   "outputs": [],
   "source": [
    "dapi_rotated_array = np.array(dapi_rotated)\n",
    "\n",
    "#check rotation matches \n",
    "plt.figure(figsize=(x_coords_scaled.max()/150,y_coords_scaled.max()/150))\n",
    "\n",
    "plt.scatter(x_coords_scaled, y_coords_scaled, c='red', s=0.015, alpha=0.7, label='Spots')\n",
    "plt.imshow(dapi_rotated_array, cmap='gray')\n",
    "\n",
    "# Ensure the axes match the image\n",
    "plt.xlim(0, dapi_rotated_array.shape[1])  \n",
    "plt.ylim(0, dapi_rotated_array.shape[0]) \n"
   ]
  },
  {
   "cell_type": "code",
   "execution_count": null,
   "metadata": {},
   "outputs": [],
   "source": [
    "\n",
    "base_name, ext = os.path.splitext(dapi_path)  # Split filename and extension\n",
    "new_filename = f\"{base_name}_rotated{ext}\"  # Append '_rotated' to filename\n",
    "\n",
    "tifffile.imwrite(new_filename, dapi_rotated_array)\n",
    "\n",
    "print(f\"Rotated image saved as: {new_filename}\")"
   ]
  },
  {
   "cell_type": "code",
   "execution_count": null,
   "metadata": {},
   "outputs": [],
   "source": []
  },
  {
   "cell_type": "markdown",
   "metadata": {},
   "source": [
    "### B2S4"
   ]
  },
  {
   "cell_type": "code",
   "execution_count": null,
   "metadata": {},
   "outputs": [],
   "source": [
    "dapi_path = \"/staging/leuven/stg_00079/projects/Lec_Micro/100.NovaST/Imaging_DeepSeq/B2S4/TransformedB2S4_DS_c4.tif\"\n",
    "dapi_image = Image.open(dapi_path)"
   ]
  },
  {
   "cell_type": "code",
   "execution_count": null,
   "metadata": {},
   "outputs": [],
   "source": [
    "spatial_coords = b2s3_adata_human.obsm['spatial'] \n",
    "x_coords = spatial_coords[:, 0]\n",
    "y_coords = spatial_coords[:, 1]"
   ]
  },
  {
   "cell_type": "code",
   "execution_count": null,
   "metadata": {},
   "outputs": [],
   "source": [
    "#Get DAPI image dimensions\n",
    "img_width, img_height = dapi_rotated.size\n",
    "\n",
    "# Normalize spatial coordinates to the image dimensions\n",
    "x_coords_scaled = (x_coords / x_coords.max()) * img_width\n",
    "y_coords_scaled = (y_coords / y_coords.max()) * img_height"
   ]
  },
  {
   "cell_type": "code",
   "execution_count": null,
   "metadata": {},
   "outputs": [],
   "source": [
    "dapi_rotated = dapi_image.rotate(90, expand=True) #rotate\n",
    "dapi_rotated_array = np.array(dapi_rotated) #this one needs to be mirrored as well\n",
    "flipped_image = np.flipud(dapi_rotated_array) \n",
    "\n",
    "#check rotation matches \n",
    "plt.figure(figsize=(x_coords_scaled.max()/150,y_coords_scaled.max()/150))\n",
    "\n",
    "plt.scatter(x_coords_scaled, y_coords_scaled, c='red', s=0.015, alpha=0.7, label='Spots')\n",
    "plt.imshow(flipped_image, cmap='gray')\n",
    "\n",
    "# Ensure the axes match the image\n",
    "plt.xlim(0, dapi_rotated_array.shape[1])  # Set x-axis to the width of the image\n",
    "plt.ylim(0, dapi_rotated_array.shape[0])  # Flip the y-axis to match image coordinates\n",
    "\n"
   ]
  },
  {
   "cell_type": "code",
   "execution_count": null,
   "metadata": {},
   "outputs": [],
   "source": [
    "\n",
    "# Generate the new filename\n",
    "base_name, ext = os.path.splitext(dapi_path)  # Split filename and extension\n",
    "new_filename = f\"{base_name}_rotated{ext}\"  # Append '_rotated' to filename\n",
    "\n",
    "# Save the rotated image with the same dimensions\n",
    "tifffile.imwrite(new_filename, flipped_image)\n",
    "\n",
    "print(f\"Rotated image saved as: {new_filename}\")"
   ]
  }
 ],
 "metadata": {
  "kernelspec": {
   "display_name": "Python 3.8 (Nov 2024)",
   "language": "Python",
   "name": "py38_21nov2024"
  },
  "language_info": {
   "codemirror_mode": {
    "name": "ipython",
    "version": 3
   },
   "file_extension": ".py",
   "mimetype": "text/x-python",
   "name": "python",
   "nbconvert_exporter": "python",
   "pygments_lexer": "ipython3",
   "version": "3.8.20"
  }
 },
 "nbformat": 4,
 "nbformat_minor": 4
}
