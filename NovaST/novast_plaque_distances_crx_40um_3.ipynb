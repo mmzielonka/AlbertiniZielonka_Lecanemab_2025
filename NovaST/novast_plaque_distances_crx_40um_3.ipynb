{
 "cells": [
  {
   "cell_type": "code",
   "execution_count": 12,
   "id": "d31562b1-d38f-4fce-b020-c232642d46d0",
   "metadata": {},
   "outputs": [],
   "source": [
    "import scanpy as sc\n",
    "import numpy as np\n",
    "from scipy.spatial import cKDTree\n",
    "from PIL import Image\n",
    "import tifffile as tiff\n",
    "\n",
    "def compute_distance_to_plaques(adata, image_path, rotation_angle=0, flip_vertically=False):\n",
    "    \"\"\"\n",
    "    Compute the distance of each cell in adata to the plaque in the segmented plaque image\n",
    "\n",
    "    params:\n",
    "    - adata\n",
    "    - image_path: path to plaque mask\n",
    "    - rotation_angle: angle by which to rotate image\n",
    "    - flip_vertically: if needed to be flipped (default: false) \n",
    "    \"\"\"\n",
    "    \n",
    "    # Load  TIFF file\n",
    "    image = tiff.imread(image_path)\n",
    "    image_pil = Image.fromarray(image)\n",
    "    \n",
    "    # Rotate image by  specified angle\n",
    "    image_rotated = image_pil.rotate(rotation_angle, expand=True)\n",
    "\n",
    "    # Optionally flip the image vertically\n",
    "    if flip_vertically:\n",
    "        image_rotated = image_rotated.transpose(Image.FLIP_TOP_BOTTOM)\n",
    "\n",
    "    # Convert image to a numpy array , find coordinates of plaque regions\n",
    "    mask_array = np.array(image_rotated)\n",
    "    foreground_coords = np.column_stack(np.where(mask_array > 0))\n",
    "\n",
    "    # Create spatial index of plaque coordinates\n",
    "    tree = cKDTree(foreground_coords)\n",
    "\n",
    "    # Get cell coordinates fro AnnData object and get distances, store in adata\n",
    "    cell_coords = np.column_stack([adata.obs['y'], adata.obs['x']])\n",
    "    distances, _ = tree.query(cell_coords)\n",
    "    adata.obs['distance_to_plaques'] = distances\n",
    "\n",
    "    return adata\n",
    "\n",
    "# dfine file paths and rotation parameters \n",
    "datasets = [\n",
    "    ('B1S3', '../100.Segmentation/B1S3/B1S3_CRX_plaque_polygon_mask.tif', -90, False),\n",
    "    ('B1S4', '../100.Segmentation/B1S4/B1S4_CRX_plaque_polygon_mask.tif', 90, False),\n",
    "    ('B2S3', '../100.Segmentation/B2S3/B2S3_CRX_plaque_polygon_mask.tif', -90, False),\n",
    "    ('B2S4', '../100.Segmentation/B2S4/B2S4_CRX_plaque_polygon_mask.tif', 90, True)\n",
    "]\n",
    "\n",
    "# Process each dataset\n",
    "for dataset_name, image_path, rotation_angle, flip_vertically in datasets:\n",
    "    adata = sc.read_h5ad(f'../110.Alignment_ROIs/40um_{dataset_name}_crx.h5ad')\n",
    "\n",
    "    adata = compute_distance_to_plaques(adata, image_path, rotation_angle, flip_vertically)\n",
    "\n",
    "    adata.write_h5ad(f'../{dataset_name}_CRX_40um_plaqueDistances.h5ad')\n"
   ]
  },
  {
   "cell_type": "markdown",
   "id": "a6950802",
   "metadata": {},
   "source": [
    "### concatenate all the results into one adata "
   ]
  },
  {
   "cell_type": "code",
   "execution_count": null,
   "id": "2a672ce0",
   "metadata": {},
   "outputs": [],
   "source": [
    "B1S3 = sc.read_h5ad('../B1S3_CRX_40um_plaqueDistances.h5ad')\n",
    "B1S4 = sc.read_h5ad('../B1S4_CRX_40um_plaqueDistances.h5ad')\n",
    "B2S3 = sc.read_h5ad('../B2S3_CRX_40um_plaqueDistances.h5ad')\n",
    "B2S4 = sc.read_h5ad('../B2S4_CRX_40um_plaqueDistances.h5ad')\n"
   ]
  },
  {
   "cell_type": "code",
   "execution_count": null,
   "id": "6b32642a",
   "metadata": {},
   "outputs": [],
   "source": [
    "\n",
    "objects = {\n",
    "    'B1S3': B1S3,\n",
    "    'B1S4': B1S4,\n",
    "    'B2S3': B2S3,\n",
    "    'B2S4': B2S4\n",
    "}\n",
    "\n"
   ]
  },
  {
   "cell_type": "code",
   "execution_count": null,
   "id": "70d76126",
   "metadata": {},
   "outputs": [],
   "source": [
    "combined_adata = sc.concat([B1S3, B1S4, B2S3, B2S4])\n",
    "\n",
    "sc.pp.calculate_qc_metrics(combined_adata, qc_vars=[\"human\", \"mouse\"], inplace=True)\n",
    "\n",
    "combined_adata.write_h5ad('./combined_CRX_40um_plaqueDistances.h5ad')"
   ]
  },
  {
   "cell_type": "code",
   "execution_count": null,
   "id": "83687481",
   "metadata": {},
   "outputs": [],
   "source": [
    "combined_adata_sub = combined_adata[combined_adata.obs['total_counts'] > 30]\n",
    "combined_adata_sub = combined_adata_sub[combined_adata_sub.obs['total_counts'] < 250]"
   ]
  },
  {
   "cell_type": "code",
   "execution_count": null,
   "id": "9673c3bf",
   "metadata": {},
   "outputs": [],
   "source": [
    "combined_adata_sub.write_h5ad('./combined_CRX_40um_plaqueDistances_forDE.h5ad')"
   ]
  },
  {
   "cell_type": "code",
   "execution_count": null,
   "id": "a2a43cbb",
   "metadata": {},
   "outputs": [],
   "source": []
  }
 ],
 "metadata": {
  "kernelspec": {
   "display_name": "py38_07SEP2022_b",
   "language": "python",
   "name": "py38_07sep2022"
  },
  "language_info": {
   "codemirror_mode": {
    "name": "ipython",
    "version": 3
   },
   "file_extension": ".py",
   "mimetype": "text/x-python",
   "name": "python",
   "nbconvert_exporter": "python",
   "pygments_lexer": "ipython3",
   "version": "3.8.13"
  }
 },
 "nbformat": 4,
 "nbformat_minor": 5
}
