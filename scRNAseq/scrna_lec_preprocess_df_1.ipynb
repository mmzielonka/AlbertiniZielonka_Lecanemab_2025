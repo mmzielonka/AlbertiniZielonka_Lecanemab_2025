{
 "cells": [
  {
   "cell_type": "markdown",
   "id": "c49b1aac",
   "metadata": {},
   "source": [
    "## Read in and preprocess datasets\n"
   ]
  },
  {
   "cell_type": "code",
   "execution_count": null,
   "id": "812bfa52",
   "metadata": {
    "scrolled": true
   },
   "outputs": [],
   "source": [
    "library(dplyr)\n",
    "library(Seurat)\n",
    "library(SeuratDisk)\n",
    "library(DoubletFinder)\n",
    "library(reticulate)\n",
    "library(ggplot2)\n",
    "library(patchwork)\n",
    "library(devtools) \n",
    "library(png)\n",
    "set.seed(1234)\n"
   ]
  },
  {
   "cell_type": "markdown",
   "id": "811ce752",
   "metadata": {},
   "source": [
    "### Read in combined data"
   ]
  },
  {
   "cell_type": "code",
   "execution_count": null,
   "id": "f6728a9b",
   "metadata": {},
   "outputs": [],
   "source": [
    "H1 <- Read10X(data.dir = \"../000.Process/Batch2/H1/outs/filtered_feature_bc_matrix/\")\n",
    "H2 <- Read10X(data.dir = \"../000.Process/Batch2/H2/outs/filtered_feature_bc_matrix/\")\n",
    "GAL002 <- Read10X(data.dir = \"../000.Process/Batch2/GAL002/outs/filtered_feature_bc_matrix/\")\n",
    "GAL004 <- Read10X(data.dir = \"../000.Process/Batch2/GAL004/outs/filtered_feature_bc_matrix/\")\n",
    "GAL005 <- Read10X(data.dir = \"../000.Process/Batch2/GAL005/outs/filtered_feature_bc_matrix/\")\n",
    "\n"
   ]
  },
  {
   "cell_type": "code",
   "execution_count": null,
   "id": "9ad7b73b",
   "metadata": {},
   "outputs": [],
   "source": [
    "# List of dataset names\n",
    "dataset_names <- c(\"H1\", \"H2\", \"GAL002\", \"GAL004\", \"GAL005\")\n",
    "\n",
    "# Define a function to create Seurat objects\n",
    "create_seurat_object <- function(dataset) {\n",
    "  CreateSeuratObject(counts = dataset$`Gene Expression`, min.cells = 3, min.features = 100)\n",
    "}\n",
    "\n",
    "\n",
    "# Process datasets and store in a list\n",
    "seurat_objects <- lapply(dataset_names, function(name) {\n",
    "  create_seurat_object(get(name))\n",
    "})\n",
    "\n",
    "# Assign back to named variables\n",
    "names(seurat_objects) <- paste0(dataset_names, \".se\")\n",
    "list2env(seurat_objects, envir = .GlobalEnv)\n"
   ]
  },
  {
   "cell_type": "code",
   "execution_count": null,
   "id": "46f35d41",
   "metadata": {},
   "outputs": [],
   "source": [
    "\n",
    "# Extract 'Gene Expression' and 'Antibody Capture' for each dataset\n",
    "for (name in dataset_names) {\n",
    "  assign(paste0(name, \".umis\"), get(name)$`Gene Expression`)\n",
    "  assign(paste0(name, \".htos\"), get(name)$`Antibody Capture`)\n",
    "}\n"
   ]
  },
  {
   "cell_type": "code",
   "execution_count": null,
   "id": "fc6de468",
   "metadata": {},
   "outputs": [],
   "source": [
    "H1.se$"
   ]
  },
  {
   "cell_type": "markdown",
   "id": "1ed644a8",
   "metadata": {},
   "source": [
    "## Prepare each library "
   ]
  },
  {
   "cell_type": "code",
   "execution_count": null,
   "id": "a44cfb14",
   "metadata": {},
   "outputs": [],
   "source": [
    "# Define function to process each dataset\n",
    "process_dataset <- function(rna_counts, hto_counts) {\n",
    "  joint.bcs <- intersect(colnames(rna_counts), colnames(hto_counts))\n",
    "  rna_counts <- rna_counts[, joint.bcs]\n",
    "  hto_counts <- as.matrix(hto_counts[, joint.bcs])\n",
    "  \n",
    "  # Confirm HTO names\n",
    "  print(rownames(hto_counts))\n",
    "  \n",
    "  # Create Seurat object\n",
    "  return(CreateSeuratObject(counts = rna_counts, min.cells = 3))\n",
    "}\n",
    "\n",
    "\n",
    "# Process all datasets and store in a list\n",
    "seurat_objects <- lapply(dataset_names, function(name) {\n",
    "  process_dataset(get(paste0(name, \".umis\")), get(paste0(name, \".htos\")))\n",
    "})\n",
    "\n",
    "# Assign back to named variables\n",
    "names(seurat_objects) <- paste0(dataset_names, \".hashtag\")\n",
    "list2env(seurat_objects, envir = .GlobalEnv)\n",
    "\n",
    "# Example violin plot for one dataset\n",
    "VlnPlot(GAL002.hashtag, features = \"nCount_RNA\") + NoLegend()\n"
   ]
  },
  {
   "cell_type": "markdown",
   "id": "14f6980b",
   "metadata": {},
   "source": [
    "# H1"
   ]
  },
  {
   "cell_type": "code",
   "execution_count": null,
   "id": "86be9794",
   "metadata": {},
   "outputs": [],
   "source": [
    "# Normalize RNA data with log normalization\n",
    "H1.hashtag <- NormalizeData(H1.hashtag)\n",
    "\n",
    "# Find and scale variable features\n",
    "H1.hashtag <- FindVariableFeatures(H1.hashtag, selection.method = \"mean.var.plot\")\n",
    "H1.hashtag <- ScaleData(H1.hashtag, features = VariableFeatures(H1.hashtag))"
   ]
  },
  {
   "cell_type": "code",
   "execution_count": null,
   "id": "a3256b50",
   "metadata": {},
   "outputs": [],
   "source": [
    "#Adding HTO data as an independent assay\n",
    "H1.hashtag[[\"HTO\"]] <- CreateAssayObject(counts = H1.htos)\n",
    "H1.hashtag <- NormalizeData(H1.hashtag, assay = \"HTO\", normalization.method = \"CLR\")\n",
    "\n",
    "H1.hashtag <- HTODemux(H1.hashtag, assay = \"HTO\", positive.quantile = 0.99)"
   ]
  },
  {
   "cell_type": "code",
   "execution_count": null,
   "id": "000d0005",
   "metadata": {},
   "outputs": [],
   "source": [
    "options(repr.plot.width=20, repr.plot.height=10)\n",
    "\n",
    "Idents(H1.hashtag) <- \"HTO_maxID\"\n",
    "RidgePlot(H1.hashtag, assay = \"HTO\", features = rownames(H1.hashtag[[\"HTO\"]])[1:12], ncol = 3)"
   ]
  },
  {
   "cell_type": "code",
   "execution_count": null,
   "id": "802b38a0",
   "metadata": {},
   "outputs": [],
   "source": [
    "#Visualize demultiplexing results\n",
    "\n",
    "# Global classification results\n",
    "table(H1.hashtag$HTO_classification.global)"
   ]
  },
  {
   "cell_type": "code",
   "execution_count": null,
   "id": "eb2eeef0",
   "metadata": {},
   "outputs": [],
   "source": [
    "Idents(H1.hashtag) <- \"HTO_classification.global\"\n"
   ]
  },
  {
   "cell_type": "code",
   "execution_count": null,
   "id": "f8b47300",
   "metadata": {},
   "outputs": [],
   "source": [
    "options(repr.plot.width=12, repr.plot.height=8)\n",
    "\n",
    "DefaultAssay(H1.hashtag) <- \"RNA\"\n",
    "H1.hashtag.subset <- subset(H1.hashtag, idents = \"Negative\", invert = TRUE)\n",
    "\n",
    "# Calculate a distance matrix using HTO\n",
    "hto.dist.mtx <- as.matrix(dist(t(GetAssayData(object = H1.hashtag.subset, assay = \"HTO\"))))\n",
    "HTOHeatmap(H1.hashtag, assay = \"HTO\", ncells = 5000)\n"
   ]
  },
  {
   "cell_type": "code",
   "execution_count": null,
   "id": "6d3cfa64",
   "metadata": {},
   "outputs": [],
   "source": []
  },
  {
   "cell_type": "code",
   "execution_count": null,
   "id": "f2e94d7c",
   "metadata": {},
   "outputs": [],
   "source": [
    "# Extract the singlets\n",
    "H1.singlet <- subset(H1.hashtag, idents = \"Singlet\")"
   ]
  },
  {
   "cell_type": "code",
   "execution_count": null,
   "id": "dc443edb",
   "metadata": {},
   "outputs": [],
   "source": [
    "options(repr.plot.width=20, repr.plot.height=7)\n",
    "\n",
    "VlnPlot(H1.hashtag, features = c(\"nCount_RNA\", \"nFeature_RNA\"), split.by = \"HTO_classification.global\",\n",
    "                                           ncol = 5, log=TRUE) + NoLegend()"
   ]
  },
  {
   "cell_type": "markdown",
   "id": "c80941c8",
   "metadata": {},
   "source": [
    "# H2"
   ]
  },
  {
   "cell_type": "code",
   "execution_count": null,
   "id": "a8a5b79b",
   "metadata": {},
   "outputs": [],
   "source": [
    "\n",
    "# Normalize RNA data with log normalization\n",
    "H2.hashtag <- NormalizeData(H2.hashtag)\n",
    "# Find and scale variable features\n",
    "H2.hashtag <- FindVariableFeatures(H2.hashtag, selection.method = \"mean.var.plot\")\n",
    "H2.hashtag <- ScaleData(H2.hashtag, features = VariableFeatures(H2.hashtag))"
   ]
  },
  {
   "cell_type": "code",
   "execution_count": null,
   "id": "ef3777ff",
   "metadata": {},
   "outputs": [],
   "source": [
    "# Add HTO data as a new assay independent from RNA\n",
    "H2.hashtag[[\"HTO\"]] <- CreateAssayObject(counts = H2.htos)\n",
    "# Normalize HTO data, here we use centered log-ratio (CLR) transformation\n",
    "H2.hashtag <- NormalizeData(H2.hashtag, assay = \"HTO\", normalization.method = \"CLR\")"
   ]
  },
  {
   "cell_type": "code",
   "execution_count": null,
   "id": "50afc740",
   "metadata": {},
   "outputs": [],
   "source": [
    "H2.hashtag <- HTODemux(H2.hashtag, assay = \"HTO\", positive.quantile = 0.99)"
   ]
  },
  {
   "cell_type": "code",
   "execution_count": null,
   "id": "7369d5b7",
   "metadata": {},
   "outputs": [],
   "source": [
    "options(repr.plot.width=20, repr.plot.height=10)\n",
    "\n",
    "Idents(H2.hashtag) <- \"HTO_maxID\"\n",
    "RidgePlot(H2.hashtag, assay = \"HTO\", features = rownames(H2.hashtag[[\"HTO\"]])[1:12], ncol = 3)"
   ]
  },
  {
   "cell_type": "code",
   "execution_count": null,
   "id": "2338f500",
   "metadata": {},
   "outputs": [],
   "source": [
    "table(H2.hashtag$HTO_classification.global)"
   ]
  },
  {
   "cell_type": "code",
   "execution_count": null,
   "id": "b7dfb6a6",
   "metadata": {},
   "outputs": [],
   "source": [
    "Idents(H2.hashtag) <- \"HTO_classification.global\"\n"
   ]
  },
  {
   "cell_type": "code",
   "execution_count": null,
   "id": "e036a4a7",
   "metadata": {},
   "outputs": [],
   "source": [
    "options(repr.plot.width=12, repr.plot.height=8)\n",
    "\n",
    "DefaultAssay(H2.hashtag) <- \"RNA\"\n",
    "H2.hashtag.subset <- subset(H2.hashtag, idents = \"Negative\", invert = TRUE)\n",
    "\n",
    "# Calculate a distance matrix using HTO\n",
    "hto.dist.mtx <- as.matrix(dist(t(GetAssayData(object = H2.hashtag.subset, assay = \"HTO\"))))\n",
    "\n"
   ]
  },
  {
   "cell_type": "code",
   "execution_count": null,
   "id": "406b52d9",
   "metadata": {},
   "outputs": [],
   "source": [
    "options(repr.plot.width=11, repr.plot.height=7)\n",
    "\n",
    "\n",
    "HTOHeatmap(H2.hashtag, assay = \"HTO\", ncells = 5000)\n"
   ]
  },
  {
   "cell_type": "code",
   "execution_count": null,
   "id": "8e1a75b2",
   "metadata": {},
   "outputs": [],
   "source": [
    "# Extract the singlets\n",
    "Idents(H2.hashtag) <- \"HTO_classification.global\"\n",
    "H2.singlet <- subset(H2.hashtag, idents = \"Singlet\")\n",
    "\n"
   ]
  },
  {
   "cell_type": "code",
   "execution_count": null,
   "id": "4c4c2fb1",
   "metadata": {},
   "outputs": [],
   "source": [
    "options(repr.plot.width=20, repr.plot.height=7)\n",
    "\n",
    "VlnPlot(H2.hashtag, features = c(\"nCount_RNA\", \"nFeature_RNA\"), split.by = \"HTO_classification.global\",\n",
    "                                           ncol = 5, log=TRUE) + NoLegend()"
   ]
  },
  {
   "cell_type": "code",
   "execution_count": null,
   "id": "e70de467",
   "metadata": {},
   "outputs": [],
   "source": []
  },
  {
   "cell_type": "code",
   "execution_count": null,
   "id": "25cc8a55",
   "metadata": {},
   "outputs": [],
   "source": []
  },
  {
   "cell_type": "markdown",
   "id": "dcfed10c",
   "metadata": {},
   "source": [
    "# GAL002"
   ]
  },
  {
   "cell_type": "code",
   "execution_count": null,
   "id": "89724a86",
   "metadata": {},
   "outputs": [],
   "source": [
    "\n",
    "# Normalize RNA data with log normalization\n",
    "GAL002.hashtag <- NormalizeData(GAL002.hashtag)\n",
    "# Find and scale variable features\n",
    "GAL002.hashtag <- FindVariableFeatures(GAL002.hashtag, selection.method = \"mean.var.plot\")\n",
    "GAL002.hashtag <- ScaleData(GAL002.hashtag, features = VariableFeatures(GAL002.hashtag))"
   ]
  },
  {
   "cell_type": "code",
   "execution_count": null,
   "id": "f243ee85",
   "metadata": {},
   "outputs": [],
   "source": [
    "\n",
    "# Add HTO data as a new assay independent from RNA\n",
    "GAL002.hashtag[[\"HTO\"]] <- CreateAssayObject(counts = GAL002.htos)\n",
    "# Normalize HTO data, here we use centered log-ratio (CLR) transformation\n",
    "GAL002.hashtag <- NormalizeData(GAL002.hashtag, assay = \"HTO\", normalization.method = \"CLR\")"
   ]
  },
  {
   "cell_type": "code",
   "execution_count": null,
   "id": "53922d36",
   "metadata": {},
   "outputs": [],
   "source": [
    "\n",
    "GAL002.hashtag <- HTODemux(GAL002.hashtag, assay = \"HTO\", positive.quantile = 0.99)"
   ]
  },
  {
   "cell_type": "code",
   "execution_count": null,
   "id": "20d5d395",
   "metadata": {},
   "outputs": [],
   "source": [
    "options(repr.plot.width=20, repr.plot.height=10)\n",
    "\n",
    "Idents(GAL002.hashtag) <- \"HTO_maxID\"\n",
    "RidgePlot(GAL002.hashtag, assay = \"HTO\", features = rownames(GAL002.hashtag[[\"HTO\"]])[1:12], ncol = 3)"
   ]
  },
  {
   "cell_type": "code",
   "execution_count": null,
   "id": "b4ba835b",
   "metadata": {},
   "outputs": [],
   "source": [
    "\n",
    "# Global classification results\n",
    "table(GAL002.hashtag$HTO_classification.global)"
   ]
  },
  {
   "cell_type": "code",
   "execution_count": null,
   "id": "1968c56f",
   "metadata": {},
   "outputs": [],
   "source": [
    "options(repr.plot.width=20, repr.plot.height=10)\n",
    "\n",
    "Idents(GAL002.hashtag) <- \"HTO_classification.global\"\n"
   ]
  },
  {
   "cell_type": "code",
   "execution_count": null,
   "id": "1777aad2",
   "metadata": {},
   "outputs": [],
   "source": [
    "options(repr.plot.width=12, repr.plot.height=8)\n",
    "\n",
    "DefaultAssay(GAL002.hashtag) <- \"RNA\"\n",
    "GAL002.hashtag.subset <- subset(GAL002.hashtag, idents = \"Negative\", invert = TRUE)\n",
    "\n",
    "# Calculate a distance matrix using HTO\n",
    "hto.dist.mtx <- as.matrix(dist(t(GetAssayData(object = GAL002.hashtag.subset, assay = \"HTO\"))))\n",
    "\n"
   ]
  },
  {
   "cell_type": "code",
   "execution_count": null,
   "id": "b000f58c",
   "metadata": {},
   "outputs": [],
   "source": [
    "\n",
    "HTOHeatmap(GAL002.hashtag, assay = \"HTO\", ncells = 5000)\n"
   ]
  },
  {
   "cell_type": "code",
   "execution_count": null,
   "id": "de6ad814",
   "metadata": {},
   "outputs": [],
   "source": [
    "# Extract the singlets\n",
    "Idents(GAL002.hashtag) <- \"HTO_classification.global\"\n",
    "\n",
    "GAL002.singlet <- subset(GAL002.hashtag, idents = \"Singlet\")\n",
    "\n"
   ]
  },
  {
   "cell_type": "code",
   "execution_count": null,
   "id": "f8d98cfe",
   "metadata": {},
   "outputs": [],
   "source": [
    "options(repr.plot.width=20, repr.plot.height=7)\n",
    "\n",
    "VlnPlot(GAL002.hashtag, features = c(\"nCount_RNA\", \"nFeature_RNA\"), split.by = \"HTO_classification.global\",\n",
    "                                           ncol = 5, log=TRUE) + NoLegend()"
   ]
  },
  {
   "cell_type": "code",
   "execution_count": null,
   "id": "d305ab5a",
   "metadata": {
    "scrolled": true
   },
   "outputs": [],
   "source": [
    "table(GAL002.singlet@meta.data$HTO_classification)"
   ]
  },
  {
   "cell_type": "markdown",
   "id": "8f53ee8c",
   "metadata": {},
   "source": [
    "# GAL004"
   ]
  },
  {
   "cell_type": "code",
   "execution_count": null,
   "id": "ae84ec36",
   "metadata": {},
   "outputs": [],
   "source": [
    "# Normalize RNA data with log normalization\n",
    "GAL004.hashtag <- NormalizeData(GAL004.hashtag)\n",
    "# Find and scale variable features\n",
    "GAL004.hashtag <- FindVariableFeatures(GAL004.hashtag, selection.method = \"mean.var.plot\")\n",
    "GAL004.hashtag <- ScaleData(GAL004.hashtag, features = VariableFeatures(GAL004.hashtag))"
   ]
  },
  {
   "cell_type": "code",
   "execution_count": null,
   "id": "d867bfe8",
   "metadata": {},
   "outputs": [],
   "source": [
    "#Adding HTO data as an independent assay\n",
    "\n",
    "# Add HTO data as a new assay independent from RNA\n",
    "GAL004.hashtag[[\"HTO\"]] <- CreateAssayObject(counts = GAL004.htos)\n",
    "# Normalize HTO data, here we use centered log-ratio (CLR) transformation\n",
    "GAL004.hashtag <- NormalizeData(GAL004.hashtag, assay = \"HTO\", normalization.method = \"CLR\")"
   ]
  },
  {
   "cell_type": "code",
   "execution_count": null,
   "id": "67090fa7",
   "metadata": {},
   "outputs": [],
   "source": [
    "\n",
    "GAL004.hashtag <- HTODemux(GAL004.hashtag, assay = \"HTO\", positive.quantile = 0.99)"
   ]
  },
  {
   "cell_type": "code",
   "execution_count": null,
   "id": "3f205b5c",
   "metadata": {},
   "outputs": [],
   "source": [
    "options(repr.plot.width=20, repr.plot.height=10)\n",
    "\n",
    "Idents(GAL004.hashtag) <- \"HTO_maxID\"\n",
    "RidgePlot(GAL004.hashtag, assay = \"HTO\", features = rownames(GAL004.hashtag[[\"HTO\"]])[1:12], ncol = 3)"
   ]
  },
  {
   "cell_type": "code",
   "execution_count": null,
   "id": "4e583d44",
   "metadata": {},
   "outputs": [],
   "source": [
    "\n",
    "# Global classification results\n",
    "table(GAL004.hashtag$HTO_classification.global)"
   ]
  },
  {
   "cell_type": "code",
   "execution_count": null,
   "id": "57164f0e",
   "metadata": {},
   "outputs": [],
   "source": [
    "options(repr.plot.width=20, repr.plot.height=10)\n",
    "\n",
    "Idents(GAL004.hashtag) <- \"HTO_classification.global\"\n"
   ]
  },
  {
   "cell_type": "code",
   "execution_count": null,
   "id": "fb0a8a3e",
   "metadata": {},
   "outputs": [],
   "source": [
    "options(repr.plot.width=12, repr.plot.height=8)\n",
    "\n",
    "DefaultAssay(GAL004.hashtag) <- \"RNA\"# First, we will remove negative cells from the object\n",
    "GAL004.hashtag.subset <- subset(GAL004.hashtag, idents = \"Negative\", invert = TRUE)\n",
    "\n",
    "# Calculate a distance matrix using HTO\n",
    "hto.dist.mtx <- as.matrix(dist(t(GetAssayData(object = GAL004.hashtag.subset, assay = \"HTO\"))))\n"
   ]
  },
  {
   "cell_type": "code",
   "execution_count": null,
   "id": "455a6cec",
   "metadata": {},
   "outputs": [],
   "source": [
    "options(repr.plot.width=11, repr.plot.height=7)\n",
    "\n",
    "DefaultAssay(GAL004.hashtag) <- \"RNA\"# First, we will remove negative cells from the object\n",
    "\n",
    "HTOHeatmap(GAL004.hashtag, assay = \"HTO\", ncells = 5000)\n"
   ]
  },
  {
   "cell_type": "code",
   "execution_count": null,
   "id": "c43bdb67",
   "metadata": {},
   "outputs": [],
   "source": [
    "# Extract the singlets\n",
    "Idents(GAL004.hashtag) <- \"HTO_classification.global\"\n",
    "\n",
    "GAL004.singlet <- subset(GAL004.hashtag, idents = \"Singlet\")\n",
    "\n"
   ]
  },
  {
   "cell_type": "code",
   "execution_count": null,
   "id": "fab4df9c",
   "metadata": {},
   "outputs": [],
   "source": [
    "options(repr.plot.width=20, repr.plot.height=7)\n",
    "\n",
    "VlnPlot(GAL004.hashtag, features = c(\"nCount_RNA\", \"nFeature_RNA\"), split.by = \"HTO_classification.global\",\n",
    "                                           ncol = 5, log=TRUE) + NoLegend()"
   ]
  },
  {
   "cell_type": "markdown",
   "id": "046d97b5",
   "metadata": {},
   "source": [
    "# GAL005"
   ]
  },
  {
   "cell_type": "code",
   "execution_count": null,
   "id": "638ba82c",
   "metadata": {},
   "outputs": [],
   "source": [
    "# Normalize RNA data with log normalization\n",
    "GAL005.hashtag <- NormalizeData(GAL005.hashtag)\n",
    "# Find and scale variable features\n",
    "GAL005.hashtag <- FindVariableFeatures(GAL005.hashtag, selection.method = \"mean.var.plot\")\n",
    "GAL005.hashtag <- ScaleData(GAL005.hashtag, features = VariableFeatures(GAL005.hashtag))"
   ]
  },
  {
   "cell_type": "code",
   "execution_count": null,
   "id": "c81d6874",
   "metadata": {},
   "outputs": [],
   "source": [
    "# Add HTO data as a new assay independent from RNA\n",
    "GAL005.hashtag[[\"HTO\"]] <- CreateAssayObject(counts = GAL005.htos)\n",
    "# Normalize HTO data, here we use centered log-ratio (CLR) transformation\n",
    "GAL005.hashtag <- NormalizeData(GAL005.hashtag, assay = \"HTO\", normalization.method = \"CLR\")"
   ]
  },
  {
   "cell_type": "code",
   "execution_count": null,
   "id": "86a8ba00",
   "metadata": {},
   "outputs": [],
   "source": [
    "\n",
    "GAL005.hashtag <- HTODemux(GAL005.hashtag, assay = \"HTO\", positive.quantile = 0.99)"
   ]
  },
  {
   "cell_type": "code",
   "execution_count": null,
   "id": "2852b89d",
   "metadata": {},
   "outputs": [],
   "source": [
    "options(repr.plot.width=20, repr.plot.height=10)\n",
    "\n",
    "Idents(GAL005.hashtag) <- \"HTO_maxID\"\n",
    "RidgePlot(GAL005.hashtag, assay = \"HTO\", features = rownames(GAL005.hashtag[[\"HTO\"]])[1:12], ncol = 3)"
   ]
  },
  {
   "cell_type": "code",
   "execution_count": null,
   "id": "26651e90",
   "metadata": {},
   "outputs": [],
   "source": [
    "options(repr.plot.width=20, repr.plot.height=10)\n",
    "\n",
    "Idents(GAL005.hashtag) <- \"HTO_classification.global\"\n"
   ]
  },
  {
   "cell_type": "code",
   "execution_count": null,
   "id": "f70d580c",
   "metadata": {},
   "outputs": [],
   "source": [
    "options(repr.plot.width=12, repr.plot.height=8)\n",
    "\n",
    "DefaultAssay(GAL005.hashtag) <- \"RNA\"# First, we will remove negative cells from the object\n",
    "GAL005.hashtag.subset <- subset(GAL005.hashtag, idents = \"Negative\", invert = TRUE)\n",
    "\n",
    "# Calculate a distance matrix using HTO\n",
    "hto.dist.mtx <- as.matrix(dist(t(GetAssayData(object = GAL005.hashtag.subset, assay = \"HTO\"))))\n"
   ]
  },
  {
   "cell_type": "code",
   "execution_count": null,
   "id": "8bb3c858",
   "metadata": {},
   "outputs": [],
   "source": [
    "options(repr.plot.width=11, repr.plot.height=7)\n",
    "\n",
    "DefaultAssay(GAL005.hashtag) <- \"RNA\"# First, we will remove negative cells from the object\n",
    "\n",
    "HTOHeatmap(GAL005.hashtag, assay = \"HTO\", ncells = 5000)\n"
   ]
  },
  {
   "cell_type": "code",
   "execution_count": null,
   "id": "1a4cadc1",
   "metadata": {},
   "outputs": [],
   "source": [
    "# Extract the singlets\n",
    "Idents(GAL005.hashtag) <- \"HTO_classification.global\"\n",
    "\n",
    "GAL005.singlet <- subset(GAL005.hashtag, idents = \"Singlet\")\n",
    "\n"
   ]
  },
  {
   "cell_type": "code",
   "execution_count": null,
   "id": "cf654527",
   "metadata": {},
   "outputs": [],
   "source": [
    "options(repr.plot.width=20, repr.plot.height=7)\n",
    "\n",
    "VlnPlot(GAL005.hashtag, features = c(\"nCount_RNA\", \"nFeature_RNA\"), split.by = \"HTO_classification.global\",\n",
    "                                           ncol = 5, log=TRUE) + NoLegend()"
   ]
  },
  {
   "cell_type": "markdown",
   "id": "fd7b9a39",
   "metadata": {},
   "source": [
    "## Subset singlets"
   ]
  },
  {
   "cell_type": "code",
   "execution_count": null,
   "id": "c8ff4763",
   "metadata": {},
   "outputs": [],
   "source": [
    "H2.singlet <- subset(H2.hashtag, idents = \"Singlet\")\n",
    "H1.singlet <- subset(H1.hashtag, idents = \"Singlet\")\n",
    "GAL002.singlet <- subset(GAL002.hashtag, idents = \"Singlet\")\n",
    "GAL004.singlet <- subset(GAL004.hashtag, idents = \"Singlet\")\n",
    "GAL005.singlet <- subset(GAL005.hashtag, idents = \"Singlet\")\n"
   ]
  },
  {
   "cell_type": "code",
   "execution_count": null,
   "id": "3ef4bba9",
   "metadata": {},
   "outputs": [],
   "source": [
    "H2.singlet@meta.data$Library = \"H2\"\n",
    "H1.singlet@meta.data$Library = \"H1\"\n",
    "GAL002.singlet@meta.data$Library = \"GAL002\"\n",
    "GAL004.singlet@meta.data$Library = \"GAL004\"\n",
    "GAL005.singlet@meta.data$Library = \"GAL005\"\n"
   ]
  },
  {
   "cell_type": "code",
   "execution_count": null,
   "id": "1a2d21a9",
   "metadata": {},
   "outputs": [],
   "source": [
    "se.big.singlet = merge(x = H1.singlet, y = c(H2.singlet, GAL002.singlet, GAL004.singlet, GAL005.singlet))"
   ]
  },
  {
   "cell_type": "code",
   "execution_count": null,
   "id": "fda14fe2",
   "metadata": {},
   "outputs": [],
   "source": [
    "se.big.singlet[['percent.human']] <- PercentageFeatureSet(se.big.singlet, pattern = \"GRCh38-\")\n",
    "se.big.singlet[['percent.mouse']] <- PercentageFeatureSet(se.big.singlet, pattern = \"mm10---\")\n",
    "\n",
    "\n",
    "se.big.singlet[['percent.hu.mt']] <- PercentageFeatureSet(se.big.singlet, pattern = \"GRCh38-MT-\")\n",
    "se.big.singlet[['percent.hu.ribo']] <- PercentageFeatureSet(se.big.singlet, pattern = \"GRCh38-RP[SL]\")\n",
    "se.big.singlet[['percent.m.mt']] <- PercentageFeatureSet(se.big.singlet, pattern = \"mm10---mt-\")\n",
    "se.big.singlet[['percent.m.ribo']] <- PercentageFeatureSet(se.big.singlet, pattern = \"mm10---Rp[sl]\")\n",
    "\n"
   ]
  },
  {
   "cell_type": "code",
   "execution_count": null,
   "id": "4bf30ed3",
   "metadata": {},
   "outputs": [],
   "source": [
    "se.big.singlet@meta.data$background = ifelse(se.big.singlet@meta.data$hash.ID %in%\n",
    "                                            c(\"AB56\", \"AB57\", \"AB86\", \"AB79\", \"AB90\", \"AB92\", \"AB93\", \"AB88\", \n",
    "                                             \"AB12\", \"AB13\", \"AB14\", \"AB16\"), \"FIRE\", \"NLGF\")"
   ]
  },
  {
   "cell_type": "code",
   "execution_count": null,
   "id": "d5ab3583",
   "metadata": {},
   "outputs": [],
   "source": [
    "saveRDS(se.big.singlet, \"./LecMicro_Human_B1B2.singlets.raw.RDS\")"
   ]
  },
  {
   "cell_type": "markdown",
   "id": "c07a54fb",
   "metadata": {},
   "source": [
    "# Remove low quality cells "
   ]
  },
  {
   "cell_type": "code",
   "execution_count": null,
   "id": "1a83fa90",
   "metadata": {},
   "outputs": [],
   "source": [
    "se.big.singlet = subset(se.big.singlet, subset = hash.ID != \"AB09\") # remove because sample failed "
   ]
  },
  {
   "cell_type": "code",
   "execution_count": null,
   "id": "ce7b3be3",
   "metadata": {},
   "outputs": [],
   "source": [
    "#keep human genes only \n",
    "keep= c(grepl( \"GRCh38-\", rownames(se.big.singlet)))\n",
    "se.big.singlet.hu = subset(x = se.big.singlet,features =c(1:(dim(se.big.singlet)[1]))[keep])\n"
   ]
  },
  {
   "cell_type": "code",
   "execution_count": null,
   "id": "5a800552",
   "metadata": {},
   "outputs": [],
   "source": [
    "H1.singlet = subset(se.big.singlet.hu, subset = Library == \"H1\")\n",
    "H2.singlet = subset(se.big.singlet.hu, subset = Library == \"H2\")\n",
    "GAL002.singlet = subset(se.big.singlet.hu, subset = Library == \"GAL002\")\n",
    "GAL004.singlet = subset(se.big.singlet.hu, subset = Library == \"GAL004\")\n",
    "GAL005.singlet = subset(se.big.singlet.hu, subset = Library == \"GAL005\")"
   ]
  },
  {
   "cell_type": "code",
   "execution_count": null,
   "id": "3c9f778a",
   "metadata": {},
   "outputs": [],
   "source": [
    "# define function to identify outliers in a library-specific manner\n",
    "\n",
    "is_outlier <- function(adata, metric, nmads) {\n",
    "    M =adata[[metric]][[1]]\n",
    "    outlier = (M < median(M) - nmads * mad(M)) | (\n",
    "        median(M) + nmads * mad(M) < M)\n",
    "    return(outlier)\n",
    "}\n",
    "\n",
    "is_outlier_lower <- function(adata, metric, nmads) {\n",
    "    M =adata[[metric]][[1]]\n",
    "    outlier = (\n",
    "        median(M) + nmads * mad(M) < M)\n",
    "    return(outlier)\n",
    "}\n",
    "\n",
    "is_outlier_upper <- function(adata, metric, nmads) {\n",
    "    M =adata[[metric]][[1]]\n",
    "    outlier = (M < median(M) - nmads * mad(M))\n",
    "    return(outlier)\n",
    "}"
   ]
  },
  {
   "cell_type": "code",
   "execution_count": null,
   "id": "1c089245",
   "metadata": {},
   "outputs": [],
   "source": [
    "# Define dataset names\n",
    "dataset_names <- c(\"H1\", \"H2\", \"GAL002\", \"GAL004\", \"GAL005\")\n",
    "\n",
    "# Process each dataset\n",
    "for (name in dataset_names) {\n",
    "  singlet_obj <- get(paste0(name, \".singlet\"))  # Retrieve the Seurat object\n",
    "  \n",
    "  # Compute log1p transformations\n",
    "  singlet_obj[['log1p_nCount_RNA']] <- log1p(singlet_obj[['nCount_RNA']])\n",
    "  singlet_obj[['log1p_nFeature_RNA']] <- log1p(singlet_obj[['nFeature_RNA']])\n",
    "  \n",
    "  # Detect outliers\n",
    "  singlet_obj@meta.data$outlier <- (\n",
    "    is_outlier(singlet_obj, \"log1p_nCount_RNA\", 2.5) |\n",
    "    is_outlier(singlet_obj, \"log1p_nFeature_RNA\", 2.5) |\n",
    "    is_outlier_lower(singlet_obj, \"percent.hu.mt\", 2.5) |\n",
    "    is_outlier_lower(singlet_obj, \"percent.mouse\", 5)\n",
    "  )\n",
    "  \n",
    "  # Assign back the modified object\n",
    "  assign(paste0(name, \".singlet\"), singlet_obj)\n",
    "}\n"
   ]
  },
  {
   "cell_type": "code",
   "execution_count": null,
   "id": "f189a10e",
   "metadata": {},
   "outputs": [],
   "source": [
    "VlnPlot(subset(H1.singlet, subset = outlier == FALSE), features = c(\"nCount_RNA\",\n",
    "                                        \"nFeature_RNA\",\"percent.human\", \"percent.hu.mt\"),  \n",
    "                                           ncol = 4, \n",
    "                   log=FALSE) & NoLegend() & theme_classic(base_size=18) +\n",
    "                theme(plot.title = element_text(hjust = 0.5), \n",
    "                      axis.title.x = element_blank(),\n",
    "                     axis.text.x = element_text(size = 14), legend.position=\"none\") \n"
   ]
  },
  {
   "cell_type": "code",
   "execution_count": null,
   "id": "6b100b5a",
   "metadata": {},
   "outputs": [],
   "source": [
    "VlnPlot(subset(H2.singlet, subset = outlier == FALSE), features = c(\"nCount_RNA\",\n",
    "                                        \"nFeature_RNA\",\"percent.human\", \"percent.hu.mt\"),  \n",
    "                                           ncol = 4, \n",
    "                   log=FALSE) & NoLegend() & theme_classic(base_size=18) +\n",
    "                theme(plot.title = element_text(hjust = 0.5), \n",
    "                      axis.title.x = element_blank(),\n",
    "                     axis.text.x = element_text(size = 14), legend.position=\"none\") \n"
   ]
  },
  {
   "cell_type": "code",
   "execution_count": null,
   "id": "ed2f21ff",
   "metadata": {},
   "outputs": [],
   "source": [
    "VlnPlot(subset(GAL002.singlet, subset = outlier == FALSE), features = c(\"nCount_RNA\",\n",
    "                                        \"nFeature_RNA\",\"percent.human\", \"percent.hu.mt\"),  \n",
    "                                           ncol = 4, \n",
    "                   log=FALSE) & NoLegend() & theme_classic(base_size=18) +\n",
    "                theme(plot.title = element_text(hjust = 0.5), \n",
    "                      axis.title.x = element_blank(),\n",
    "                     axis.text.x = element_text(size = 14), legend.position=\"none\") \n"
   ]
  },
  {
   "cell_type": "code",
   "execution_count": null,
   "id": "9dec428e",
   "metadata": {},
   "outputs": [],
   "source": [
    "VlnPlot(subset(GAL004.singlet, subset = outlier == FALSE), features = c(\"nCount_RNA\",\n",
    "                                        \"nFeature_RNA\",\"percent.human\", \"percent.hu.mt\"),  \n",
    "                                           ncol = 4, \n",
    "                   log=FALSE) & NoLegend() & theme_classic(base_size=18) +\n",
    "                theme(plot.title = element_text(hjust = 0.5), \n",
    "                      axis.title.x = element_blank(),\n",
    "                     axis.text.x = element_text(size = 14), legend.position=\"none\") \n"
   ]
  },
  {
   "cell_type": "code",
   "execution_count": null,
   "id": "cd31c4e2",
   "metadata": {},
   "outputs": [],
   "source": [
    "VlnPlot(subset(GAL005.singlet, subset = outlier == FALSE), features = c(\"nCount_RNA\",\n",
    "                                        \"nFeature_RNA\",\"percent.human\", \"percent.hu.mt\"),  \n",
    "                                           ncol = 4, \n",
    "                   log=FALSE) & NoLegend() & theme_classic(base_size=18) +\n",
    "                theme(plot.title = element_text(hjust = 0.5), \n",
    "                      axis.title.x = element_blank(),\n",
    "                     axis.text.x = element_text(size = 14), legend.position=\"none\") \n"
   ]
  },
  {
   "cell_type": "code",
   "execution_count": null,
   "id": "f78071cb",
   "metadata": {},
   "outputs": [],
   "source": [
    "# remove outliers \n",
    "\n",
    "H1.singlet.sub = subset(H1.singlet, subset = outlier == FALSE)\n",
    "H2.singlet.sub = subset(H2.singlet, subset = outlier == FALSE)\n",
    "GAL002.singlet.sub = subset(GAL002.singlet, subset = outlier == FALSE)\n",
    "GAL004.singlet.sub = subset(GAL004.singlet, subset = outlier == FALSE)\n",
    "GAL005.singlet.sub = subset(GAL005.singlet, subset = outlier == FALSE)"
   ]
  },
  {
   "cell_type": "code",
   "execution_count": null,
   "id": "18ac7449",
   "metadata": {},
   "outputs": [],
   "source": [
    "se.big.singlet.sub = merge(x = H1.singlet.sub, \n",
    "                           y = c(H2.singlet.sub, GAL002.singlet.sub, \n",
    "                                 GAL004.singlet.sub, GAL005.singlet.sub))"
   ]
  },
  {
   "cell_type": "code",
   "execution_count": null,
   "id": "008f4715",
   "metadata": {},
   "outputs": [],
   "source": [
    "#remove genes expressed in less than 1% of cells \n",
    "\n",
    "counts <- GetAssayData(se.big.singlet.sub, slot=\"counts\", assay=\"RNA\")   \n",
    "genes.percent.expressed <- rowMeans(counts>0 )*100   \n",
    "\n",
    "genes.filter <- names(genes.percent.expressed[genes.percent.expressed>0.5])  #select genes expressed in at least 1% of cells\n",
    "counts.sub <- counts[genes.filter,]\n",
    "se.big.singlet <- CreateSeuratObject(counts=counts.sub, meta.data = se.big.singlet@meta.data)\n",
    "\n"
   ]
  },
  {
   "cell_type": "markdown",
   "id": "0c232a8b",
   "metadata": {},
   "source": [
    "# DoubletFinder"
   ]
  },
  {
   "cell_type": "code",
   "execution_count": null,
   "id": "984feb8d",
   "metadata": {},
   "outputs": [],
   "source": [
    "seu_list <- SplitObject(se.big.singlet, split.by = \"Library\")"
   ]
  },
  {
   "cell_type": "code",
   "execution_count": null,
   "id": "d5791ced",
   "metadata": {},
   "outputs": [],
   "source": [
    "sweep.stats.list <- list()\n",
    "for (i in 1:length(seu_list)) {\n",
    "  seu_list[[i]] <- seu_list[[i]]\n",
    "    print(unique(seu_list[[i]]@meta.data$Library))\n",
    "    seu_list[[i]] <- NormalizeData(seu_list[[i]])\n",
    "    seu_list[[i]] <- FindVariableFeatures(seu_list[[i]], selection.method = \"vst\", nfeatures = 3000)\n",
    "    seu_list[[i]] <- ScaleData(seu_list[[i]])\n",
    "    seu_list[[i]] <- RunPCA(seu_list[[i]])\n",
    "    seu_list[[i]] <- RunUMAP(seu_list[[i]], dims = 1:20)\n",
    "  sweep.res.list <- paramSweep_v3(seu_list[[i]], PCs = 1:20, sct = FALSE)\n",
    "  sweep.stats <- summarizeSweep(sweep.res.list, GT = FALSE)\n",
    "  sweep.stats.list[[i]] <- sweep.stats\n",
    "}"
   ]
  },
  {
   "cell_type": "code",
   "execution_count": null,
   "id": "2b87d46a",
   "metadata": {},
   "outputs": [],
   "source": [
    "pk.vec<-list()\n",
    "\n",
    "for (i in 1:length(seu_list)) {\n",
    "    sweep = sweep.stats.list[[i]]\n",
    "    bcmvn <- find.pK(sweep)\n",
    "\n",
    "    pK=as.numeric(as.character(bcmvn$pK))\n",
    "    BCmetric=bcmvn$BCmetric\n",
    "    pK_choose = pK[which(BCmetric %in% max(BCmetric))]\n",
    "    \n",
    "    plot(x = pK, y = BCmetric, pch = 16,type=\"b\",\n",
    "    col = \"blue\",lty=1, xlim=c(0, 0.35))\n",
    "    abline(v=pK_choose,lwd=2,col='red',lty=2)\n",
    "    title(\"The BCmvn distributions\")\n",
    "    text(pK_choose,max(BCmetric),as.character(pK_choose),pos = 4,col = \"red\")\n",
    "    \n",
    "    pk.vec[[i]] <- pK_choose\n",
    "}"
   ]
  },
  {
   "cell_type": "code",
   "execution_count": null,
   "id": "3fab8e16",
   "metadata": {},
   "outputs": [],
   "source": [
    "for (i in 1:length(seu_list)) {\n",
    "  seu_temp <- seu_list[[i]]\n",
    "  nExp_poi <- 0.02*nrow(seu_temp@meta.data)\n",
    "  seu_temp <- doubletFinder_v3(seu_temp, PCs = \n",
    "      1:20, pN = 0.25, pK = pk.vec[[i]], nExp = nExp_poi, reuse.pANN = FALSE, sct = FALSE)\n",
    "  seu_list[[i]] <- seu_temp\n",
    "}\n",
    "\n"
   ]
  },
  {
   "cell_type": "code",
   "execution_count": null,
   "id": "106c5e20",
   "metadata": {},
   "outputs": [],
   "source": [
    "for (i in 1:length(seu_list)){\n",
    "      seu_temp <- seu_list[[i]]\n",
    "\n",
    "\n",
    "    DF.name = colnames(seu_temp@meta.data)[grepl(\"classifications_0.25\", colnames(seu_temp@meta.data))]\n",
    "    \n",
    "    print(colnames(seu_temp@meta.data)[grepl(\"classifications_0.25\", colnames(seu_temp@meta.data))])\n",
    "    options(repr.plot.width=14, repr.plot.height=6)\n",
    "        \n",
    "    print(cowplot::plot_grid(ncol = 2, DimPlot(seu_temp, group.by = \"orig.ident\") + NoAxes(), \n",
    "        DimPlot(seu_temp, group.by = DF.name) + NoAxes()))}"
   ]
  },
  {
   "cell_type": "code",
   "execution_count": null,
   "id": "78288778",
   "metadata": {},
   "outputs": [],
   "source": [
    "seu_list_df <- list()\n",
    "\n",
    "for (i in 1:length(seu_list)){\n",
    "    seu_temp <- seu_list[[i]]\n",
    "    x <- (colnames(seu_temp@meta.data)[grepl(\"classifications_0.25\", colnames(seu_temp@meta.data))])\n",
    "    print(x)\n",
    "}\n",
    "\n",
    "\n"
   ]
  },
  {
   "cell_type": "code",
   "execution_count": null,
   "id": "0607c461",
   "metadata": {},
   "outputs": [],
   "source": [
    "seu_list_df[[1]] <- subset(seu_list[[1]], subset = DF.classifications_0.25_0.15_234.14 == \"Singlet\")\n",
    "seu_list_df[[2]] <- subset(seu_list[[2]], subset = DF.classifications_0.25_0.26_298.34 == \"Singlet\")\n",
    "seu_list_df[[3]] <- subset(seu_list[[3]], subset = DF.classifications_0.25_0.3_165.64 == \"Singlet\")\n",
    "seu_list_df[[4]] <- subset(seu_list[[4]], subset = DF.classifications_0.25_0.3_140.7 == \"Singlet\")\n",
    "seu_list_df[[5]] <- subset(seu_list[[5]], subset = DF.classifications_0.25_0.3_121.64 == \"Singlet\")\n"
   ]
  },
  {
   "cell_type": "code",
   "execution_count": null,
   "id": "6bfcc375",
   "metadata": {},
   "outputs": [],
   "source": [
    "samps <- list()\n",
    "for (i in 1:length(seu_list)){\n",
    "    samps[[i]] <- (unique(seu_list[[i]]@meta.data$Library))}\n",
    "\n",
    "\n",
    "se.big.singlet.df=merge(seu_list_df[[1]], y=c(seu_list_df[[2]], seu_list_df[[3]],\n",
    "                                              seu_list_df[[4]],seu_list_df[[5]]), \n",
    "                        add.cell.ids = samps, project=\"LecMicro\")"
   ]
  },
  {
   "cell_type": "code",
   "execution_count": null,
   "id": "00afb616",
   "metadata": {},
   "outputs": [],
   "source": [
    "saveRDS(se.big.singlet.df, './scrna_lecMicro_preprocess_df.RDS')"
   ]
  },
  {
   "cell_type": "code",
   "execution_count": null,
   "id": "e43bb816",
   "metadata": {},
   "outputs": [],
   "source": []
  }
 ],
 "metadata": {
  "kernelspec": {
   "display_name": "r4_012024",
   "language": "R",
   "name": "r4_012024"
  },
  "language_info": {
   "codemirror_mode": "r",
   "file_extension": ".r",
   "mimetype": "text/x-r-source",
   "name": "R",
   "pygments_lexer": "r",
   "version": "4.2.3"
  }
 },
 "nbformat": 4,
 "nbformat_minor": 5
}
