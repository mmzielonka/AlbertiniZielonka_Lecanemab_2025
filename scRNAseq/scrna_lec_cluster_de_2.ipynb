{
 "cells": [
  {
   "cell_type": "code",
   "execution_count": null,
   "id": "812bfa52",
   "metadata": {
    "scrolled": true
   },
   "outputs": [],
   "source": [
    "library(dplyr)\n",
    "library(Matrix)\n",
    "library(Seurat)\n",
    "library(ggplot2)\n",
    "library(sctransform)\n",
    "library(reticulate)\n",
    "library(ggplot2)\n",
    "library(patchwork)\n",
    "library(devtools) \n",
    "library(png)\n",
    "library(SeuratDisk)\n",
    "library(Nebulosa)\n",
    "library(\"AnnotationDbi\")\n",
    "library(\"org.Hs.eg.db\")\n",
    "library(\"clusterProfiler\")\n",
    "library(limma)\n",
    "set.seed(1234)\n"
   ]
  },
  {
   "cell_type": "markdown",
   "id": "811ce752",
   "metadata": {},
   "source": [
    "# Read in combined data"
   ]
  },
  {
   "cell_type": "code",
   "execution_count": null,
   "id": "f6728a9b",
   "metadata": {},
   "outputs": [],
   "source": [
    "se.big.singlet2 <- readRDS('./scrna_lecMicro_preprocess_df.RDS')"
   ]
  },
  {
   "cell_type": "code",
   "execution_count": null,
   "id": "01e9ae4e",
   "metadata": {},
   "outputs": [],
   "source": [
    "# subset FIRE mice - of interest in this experiment\n",
    "se.big.singlet2 = subset(se.big.singlet2, background == \"FIRE\")\n",
    "\n",
    "se.big.singlet2@meta.data$Treatment <- ifelse(se.big.singlet2@meta.data$hash.ID %in% c(\n",
    "    \"AB01\", \"AB02\", \"AB05\", \"AB13\", \"AB14\", \"AB40\", \n",
    "    \"AB57\", \"AB41\", \"AB49\", \"AB45\", \"AB92\", \"AB93\", \"AB88\"), \n",
    "    \"Lec\", \"iGg1\")"
   ]
  },
  {
   "cell_type": "markdown",
   "id": "4b3f2fc7",
   "metadata": {},
   "source": [
    "# STransform and processing of QC'ed dataset"
   ]
  },
  {
   "cell_type": "code",
   "execution_count": null,
   "id": "44a0bbe6",
   "metadata": {},
   "outputs": [],
   "source": [
    "DefaultAssay(se.big.singlet2) <- \"RNA\"\n",
    "\n",
    "micro.list <- SplitObject(se.big.singlet2, split.by = \"Library\")\n",
    "\n",
    "micro.list <- lapply(X = micro.list, FUN = SCTransform)\n",
    "features <- SelectIntegrationFeatures(object.list = micro.list, nfeatures = 3000)\n",
    "\n",
    "micro.list <- PrepSCTIntegration(object.list = micro.list, anchor.features = features)\n",
    "\n",
    "anchors <- FindIntegrationAnchors(object.list = micro.list, normalization.method = \"SCT\",\n",
    "    anchor.features = features)\n",
    "\n",
    "combined.sct <- IntegrateData(anchorset = anchors, normalization.method = \"SCT\")\n",
    "\n",
    "combined.sct <- RunPCA(combined.sct, verbose = FALSE)\n"
   ]
  },
  {
   "cell_type": "code",
   "execution_count": null,
   "id": "90336023",
   "metadata": {},
   "outputs": [],
   "source": [
    "DefaultAssay(combined.sct) <- \"integrated\"\n",
    "\n",
    "combined.sct <- RunUMAP(combined.sct, reduction = \"pca\", dims = 1:30)\n",
    "\n",
    "micro.combined3 = combined.sct\n",
    "micro.combined3 <- FindNeighbors(micro.combined3, reduction = \"pca\", dims = 1:30,k.param = 100, nn.method = \"annoy\", annoy.metric = \"cosine\")\n"
   ]
  },
  {
   "cell_type": "code",
   "execution_count": null,
   "id": "f35d1d15",
   "metadata": {},
   "outputs": [],
   "source": [
    "DefaultAssay(micro.combined3) <- \"integrated\"\n",
    "micro.combined3 <- FindClusters(micro.combined3, resolution = 0.3, n.iter=100)\n",
    "\n",
    "options(repr.plot.width=12, repr.plot.height=10)\n",
    "DimPlot(micro.combined3, reduction = \"umap\",  label = T, pt.size=1.5, label.size=8,raster=T) + \n",
    "    theme_classic(base_size=28)+ \n",
    "    guides(color=guide_legend(title=\"Cluster\", override.aes = list(size=6)))"
   ]
  },
  {
   "cell_type": "code",
   "execution_count": null,
   "id": "187d86e2",
   "metadata": {},
   "outputs": [],
   "source": [
    "options(repr.plot.width=22, repr.plot.height=10)\n",
    "\n",
    "DimPlot(micro.combined3, reduction = \"umap\",  label = T, pt.size=1, ncol = 3,\n",
    "        label.size=10,raster=F, split.by = \"Library\") + \n",
    "        theme_void(base_size=35)+ \n",
    "    guides(color=guide_legend(title=\"Cluster\", override.aes = list(size=6)))"
   ]
  },
  {
   "cell_type": "code",
   "execution_count": null,
   "id": "c22ac7df",
   "metadata": {},
   "outputs": [],
   "source": [
    "options(repr.plot.width=6, repr.plot.height=6)\n",
    "\n",
    "#visualize density of treatments \n",
    "micro.combined3@meta.data$Lec <- ifelse(micro.combined3@meta.data$Treatment\n",
    "                                        == \"Lec\", 1/nrow(subset(micro.combined3@meta.data, Treatment == \"Lec\")), 0)\n",
    "\n",
    "plot_density(micro.combined3, \"Lec\", size=2) + ggtitle(\"Lec\")+ theme_void(base_size=19) + \n",
    "                     theme( plot.title = element_text(color=\"black\", size=18, face=\"bold\",  hjust = 0.5), \n",
    "                          legend.position = \"none\")  "
   ]
  },
  {
   "cell_type": "code",
   "execution_count": null,
   "id": "0a0a0f53",
   "metadata": {},
   "outputs": [],
   "source": [
    "micro.combined3@meta.data$iGg1 <- ifelse(micro.combined3@meta.data$Treatment\n",
    "                                        == \"iGg1\", 1/nrow(subset(micro.combined3@meta.data, Treatment == \"iGg1\")), 0)\n",
    "\n",
    "plot_density(micro.combined3, \"iGg1\", size=2) + ggtitle(\"iGg1\")+ theme_void(base_size=19) + \n",
    "                     theme( plot.title = element_text(color=\"black\", size=18, face=\"bold\",  hjust = 0.5), \n",
    "                          legend.position = \"none\")  "
   ]
  },
  {
   "cell_type": "code",
   "execution_count": null,
   "id": "826f7dc1",
   "metadata": {},
   "outputs": [],
   "source": [
    "# #remove human label from gene names \n",
    "\n",
    "# hu.genes.names = gsub('GRCh38-', '', se.big.singlet_test@assays$RNA@counts@Dimnames[[1]])\n",
    "# se.big.singlet_test = se.big.singlet_test\n",
    "# se.big.singlet_test@assays$RNA@counts@Dimnames[[1]]<-hu.genes.names\n",
    "# se.big.singlet_test@assays$RNA@data@Dimnames[[1]] <- hu.genes.names\n",
    "# df = as.data.frame(se.big.singlet_test@assays$RNA@counts@Dimnames[[1]])\n",
    "# row.names(df) = df[[1]]\n",
    "# x = subset(df, select = -1)\n",
    "# se.big.singlet_test@assays$RNA@meta.features <- x\n",
    "\n",
    "# hu.genes.names = gsub('GRCh38-', '', se.big.singlet_test@assays$RNA@data@Dimnames[[1]])\n",
    "# se.big.singlet_test = se.big.singlet_test\n",
    "# se.big.singlet_test@assays$RNA@data@Dimnames[[1]]<-hu.genes.names\n",
    "# se.big.singlet_test@assays$RNA@data@Dimnames[[1]] <- hu.genes.names\n",
    "# df = as.data.frame(se.big.singlet_test@assays$RNA@data@Dimnames[[1]])\n",
    "# row.names(df) = df[[1]]\n",
    "# x = subset(df, select = -1)\n",
    "# se.big.singlet_test@assays$RNA@meta.features <- x\n",
    "\n",
    "\n",
    "# hu.genes.names = gsub('GRCh38-', '', se.big.singlet_test@assays$SCT@data@Dimnames[[1]])\n",
    "# se.big.singlet_test = se.big.singlet_test\n",
    "# se.big.singlet_test@assays$SCT@data@Dimnames[[1]]<-hu.genes.names\n",
    "# se.big.singlet_test@assays$SCT@data@Dimnames[[1]] <- hu.genes.names\n",
    "\n",
    "\n",
    "# hu.genes.names = gsub('GRCh38-', '', se.big.singlet_test@assays$SCT@counts@Dimnames[[1]])\n",
    "# se.big.singlet_test = se.big.singlet_test\n",
    "# se.big.singlet_test@assays$SCT@counts@Dimnames[[1]]<-hu.genes.names\n",
    "# se.big.singlet_test@assays$SCT@counts@Dimnames[[1]] <- hu.genes.names\n",
    "\n",
    "\n",
    "# hu.genes.names = gsub('GRCh38-', '', row.names(se.big.singlet_test@assays$SCT@scale.data))\n",
    "# se.big.singlet_test = se.big.singlet_test\n",
    "# row.names(se.big.singlet_test@assays$SCT@scale.data)<-hu.genes.names\n",
    "# row.names(se.big.singlet_test@assays$SCT@scale.data) <- hu.genes.names\n",
    "\n",
    "\n",
    "# hu.genes.names = gsub('GRCh38-', '', row.names(se.big.singlet_test@assays$SCT@SCTModel.list$model1@feature.attributes))\n",
    "# se.big.singlet_test = se.big.singlet_test\n",
    "# row.names(se.big.singlet_test@assays$SCT@SCTModel.list$model1@feature.attributes)<-hu.genes.names\n",
    "# row.names(se.big.singlet_test@assays$SCT@SCTModel.list$model1@feature.attributes) <- hu.genes.names\n",
    "\n",
    "\n",
    "# hu.genes.names = gsub('GRCh38-', '', row.names(se.big.singlet_test@assays$SCT@SCTModel.list$`model1.1`@feature.attributes))\n",
    "# se.big.singlet_test = se.big.singlet_test\n",
    "# row.names(se.big.singlet_test@assays$SCT@SCTModel.list$`model1.1`@feature.attributes)<-hu.genes.names\n",
    "# row.names(se.big.singlet_test@assays$SCT@SCTModel.list$`model1.1`@feature.attributes) <- hu.genes.names\n",
    "\n",
    "\n",
    "# hu.genes.names = gsub('GRCh38-', '', row.names(se.big.singlet_test@assays$SCT@SCTModel.list$`model1.2`@feature.attributes))\n",
    "# se.big.singlet_test = se.big.singlet_test\n",
    "# row.names(se.big.singlet_test@assays$SCT@SCTModel.list$`model1.2`@feature.attributes)<-hu.genes.names\n",
    "# row.names(se.big.singlet_test@assays$SCT@SCTModel.list$`model1.2`@feature.attributes) <- hu.genes.names\n",
    "\n",
    "\n",
    "# hu.genes.names = gsub('GRCh38-', '', row.names(se.big.singlet_test@assays$SCT@SCTModel.list$`model1.3`@feature.attributes))\n",
    "# se.big.singlet_test = se.big.singlet_test\n",
    "# row.names(se.big.singlet_test@assays$SCT@SCTModel.list$`model1.3`@feature.attributes)<-hu.genes.names\n",
    "# row.names(se.big.singlet_test@assays$SCT@SCTModel.list$`model1.3`@feature.attributes) <- hu.genes.names\n",
    "\n",
    "\n",
    "# hu.genes.names = gsub('GRCh38-', '', row.names(se.big.singlet_test@assays$SCT@SCTModel.list$`model1.4`@feature.attributes))\n",
    "# se.big.singlet_test = se.big.singlet_test\n",
    "# row.names(se.big.singlet_test@assays$SCT@SCTModel.list$`model1.4`@feature.attributes)<-hu.genes.names\n",
    "# row.names(se.big.singlet_test@assays$SCT@SCTModel.list$`model1.4`@feature.attributes) <- hu.genes.names\n",
    "\n"
   ]
  },
  {
   "cell_type": "code",
   "execution_count": null,
   "id": "c668ddfc",
   "metadata": {},
   "outputs": [],
   "source": [
    "# find cluster markers\n",
    "\n",
    "DefaultAssay(micro.combined3) <- 'SCT'\n",
    "\n",
    "micro.combined3 = PrepSCTFindMarkers(micro.combined3, assay = \"SCT\", verbose = TRUE)\n",
    "\n",
    "se.big.markers3_SCT <- FindAllMarkers(micro.combined3, logfc.threshold = 0.1, min.pct = 0.2, assay = \"SCT\", only.pos = TRUE)\n"
   ]
  },
  {
   "cell_type": "code",
   "execution_count": null,
   "id": "9076e5f6",
   "metadata": {},
   "outputs": [],
   "source": []
  },
  {
   "cell_type": "code",
   "execution_count": null,
   "id": "56dbc4c0",
   "metadata": {
    "scrolled": true
   },
   "outputs": [],
   "source": [
    "library(dittoSeq)\n",
    "library(viridis)\n",
    "\n",
    "se.big.markers.sig <- subset(se.big.markers3_SCT, p_val_adj < 0.05)\n",
    "\n",
    "DefaultAssay(micro.combined3) <- 'RNA'\n",
    "\n",
    "se.big.markers.top6 <-se.big.markers.sig %>%\n",
    "    group_by(cluster) %>%\n",
    "    slice_max(n = 6, order_by = -p_val_adj) %>%\n",
    "    slice_max(n = 6, order_by = avg_log2FC)\n",
    "\n",
    "\n",
    "options(repr.plot.width=29, repr.plot.height=9, repr.res = 300)\n",
    "\n",
    "DotPlot(micro.combined3, features = unique(se.big.markers.top6$gene), \n",
    "        group.by = \"integrated_snn_res.0.3\", \n",
    "       col.min =-1, col.max = 2.2, dot.min = 0.05) + \n",
    "  geom_point(aes(size=pct.exp), shape = 21) +\n",
    "  scale_colour_viridis(option=\"inferno\", direction = -1) +\n",
    "  guides(size=guide_legend(override.aes=list(shape=21 , fill=\"white\")), \n",
    "        fill = guide_legend(title=\"Avg. Expr.\") )+ \n",
    "  scale_size(range = c(1,10)) +\n",
    "  theme_classic(base_size=25) +theme(\n",
    "      axis.text.x = element_text(size = 20, angle = 90, vjust = 0.7, hjust=0.95),\n",
    "      axis.text.y = element_text(size = 30)) + ylab(\"\") + xlab(\"\") +\n",
    "  labs(color = \"legend title\") \n",
    "\n"
   ]
  },
  {
   "cell_type": "code",
   "execution_count": null,
   "id": "688cdfb3",
   "metadata": {},
   "outputs": [],
   "source": [
    "DefaultAssay(micro.combined3) <- 'SCT'\n",
    "\n",
    "# Define gene sets\n",
    "micro_states <- list(\n",
    "  DAM = \"../../geneSets/mancuso032022/DAM.grp\",\n",
    "  HM = \"../../geneSets/mancuso032022/HM.grp\",\n",
    "  IRM = \"../../geneSets/mancuso032022/IRM.grp\",\n",
    "  TRM = \"../../geneSets/mancuso032022/TRM.grp\",\n",
    "  CRM1 = \"../../geneSets/mancuso032022/CRM1.grp\",\n",
    "  CRM2 = \"../../geneSets/mancuso032022/CRM2.grp\",\n",
    "  HLA = \"../../geneSets/mancuso032022/HLA.grp\",\n",
    "  tCRM = \"../../geneSets/mancuso032022/tCRM.grp\"\n",
    ")\n",
    "\n",
    "micro_states <- lapply(gene_sets, function(path) read.csv(path, header = FALSE)$V1)\n",
    "\n",
    "# Add module scores\n",
    "for (name in names(micro_states)) {\n",
    "  micro.combined3 <- AddModuleScore(micro.combined3, features = list(micro_states[[name]]), name = paste0(name, \"_enriched\"))\n",
    "}\n",
    "\n",
    "signatures <- paste0(names(micro_states), \"_enriched1\")\n",
    "\n",
    "options(repr.plot.width = 15, repr.plot.height = 10)\n",
    "library(RColorBrewer)\n",
    "library(gridExtra)\n",
    "\n",
    "plotlist <- lapply(signatures, function(feature) {\n",
    "  FeaturePlot(micro.combined3, features = feature, min.cutoff = 'q1', max.cutoff = 'q99',\n",
    "              reduction = \"umap\", label = FALSE, pt.size = 0.7, label.size = 8, repel = TRUE) +\n",
    "    scale_colour_gradientn(colours = rev(brewer.pal(n = 11, name = \"Spectral\"))) +  \n",
    "    theme_void() + \n",
    "    theme(plot.title = element_text(hjust = 0.5, size = 16, face = \"bold\"))\n",
    "})\n",
    "\n",
    "grid.arrange(grobs = plotlist, ncol = 3)\n"
   ]
  },
  {
   "cell_type": "code",
   "execution_count": null,
   "id": "a42e43af",
   "metadata": {},
   "outputs": [],
   "source": [
    "saveRDS(micro.combined3, 'scrna_lecMicro_prefilter_sctransform.RDS')"
   ]
  },
  {
   "cell_type": "markdown",
   "id": "700c0738",
   "metadata": {},
   "source": [
    "# Remove macrophages and reprocess"
   ]
  },
  {
   "cell_type": "code",
   "execution_count": null,
   "id": "bcd4584a",
   "metadata": {},
   "outputs": [],
   "source": [
    "micro.combined4 = subset(micro.combined3, subset = integrated_snn_res.0.3 %in% c(0,1,2,3,4,5,6,7,8,10))"
   ]
  },
  {
   "cell_type": "code",
   "execution_count": null,
   "id": "5111099d",
   "metadata": {},
   "outputs": [],
   "source": [
    "\n",
    "DefaultAssay(micro.combined4) <- \"RNA\"\n",
    "\n",
    "hu.genes.names = gsub('GRCh38-', '', micro.combined4@assays$RNA@counts@Dimnames[[1]])\n",
    "micro.combined4@assays$RNA@counts@Dimnames[[1]]<-hu.genes.names\n",
    "micro.combined4@assays$RNA@data@Dimnames[[1]] <- hu.genes.names\n",
    "df = as.data.frame(micro.combined4@assays$RNA@counts@Dimnames[[1]])\n",
    "row.names(df) = df[[1]]\n",
    "x = subset(df, select = -1)\n",
    "micro.combined4@assays$RNA@meta.features <- x\n",
    "\n"
   ]
  },
  {
   "cell_type": "code",
   "execution_count": null,
   "id": "91e21b30",
   "metadata": {},
   "outputs": [],
   "source": [
    "micro.list <- SplitObject(micro.combined4, split.by = \"Library\")\n",
    "\n",
    "micro.list <- lapply(X = micro.list, FUN = SCTransform)\n",
    "features <- SelectIntegrationFeatures(object.list = micro.list, nfeatures = 3000)\n",
    "micro.list <- PrepSCTIntegration(object.list = micro.list, anchor.features = features)\n",
    "anchors <- FindIntegrationAnchors(object.list = micro.list, normalization.method = \"SCT\",\n",
    "    anchor.features = features)\n",
    "combined.sct <- IntegrateData(anchorset = anchors, normalization.method = \"SCT\")\n"
   ]
  },
  {
   "cell_type": "code",
   "execution_count": null,
   "id": "a6ea8af7",
   "metadata": {},
   "outputs": [],
   "source": [
    "combined.sct <- RunPCA(combined.sct, verbose = FALSE)"
   ]
  },
  {
   "cell_type": "code",
   "execution_count": null,
   "id": "0a3a2119",
   "metadata": {},
   "outputs": [],
   "source": [
    "DefaultAssay(combined.sct) <- \"integrated\"\n",
    "\n",
    "combined.sct <- RunUMAP(combined.sct, reduction = \"pca\", dims = 1:30)"
   ]
  },
  {
   "cell_type": "code",
   "execution_count": null,
   "id": "bca79688",
   "metadata": {},
   "outputs": [],
   "source": [
    "micro.combined4 = combined.sct\n",
    "\n",
    "DefaultAssay(micro.combined4) <- \"integrated\"\n",
    "micro.combined4 <- FindNeighbors(micro.combined4, reduction = \"pca\", dims = 1:30,k.param = 100, nn.method = \"annoy\", annoy.metric = \"cosine\")\n",
    "micro.combined4 <- FindClusters(micro.combined4, resolution = 0.25, n.iter=100)\n"
   ]
  },
  {
   "cell_type": "code",
   "execution_count": null,
   "id": "a033f2b8",
   "metadata": {},
   "outputs": [],
   "source": [
    "options(repr.plot.width=12, repr.plot.height=10)\n",
    "\n",
    "DimPlot(micro.combined4, reduction = \"umap\",  label = T, pt.size=1, label.size=8,raster=T) + \n",
    "    theme_classic(base_size=28)+ \n",
    "    guides(color=guide_legend(title=\"Cluster\", override.aes = list(size=6)))\n",
    "\n"
   ]
  },
  {
   "cell_type": "code",
   "execution_count": null,
   "id": "b9fd4cdb",
   "metadata": {},
   "outputs": [],
   "source": [
    "options(repr.plot.width=18, repr.plot.height=4)\n",
    "Idents(micro.combined4) = micro.combined4@meta.data$hash.ID\n",
    "DimPlot(micro.combined4, reduction = \"umap\", split.by = c(\"Library\"))"
   ]
  },
  {
   "cell_type": "code",
   "execution_count": null,
   "id": "a16da03c",
   "metadata": {},
   "outputs": [],
   "source": [
    "# micro.combined4@meta.data$Treatment <- ifelse(micro.combined4@meta.data$hash.ID %in% c(\n",
    "#     \"AB01\",\n",
    "# \"AB02\",\n",
    "# \"AB05\",\n",
    "# \"AB13\",\n",
    "# \"AB14\",\n",
    "# \"AB40\",\n",
    "# \"AB57\",\n",
    "# \"AB41\",\n",
    "# \"AB49\",\n",
    "# \"AB45\",\n",
    "# \"AB92\",\n",
    "# \"AB93\",\n",
    "# \"AB88\"), \"Lec\", \"iGg1\")\n",
    "\n"
   ]
  },
  {
   "cell_type": "code",
   "execution_count": null,
   "id": "3d6eb0ad",
   "metadata": {},
   "outputs": [],
   "source": [
    "options(repr.plot.width=10, repr.plot.height=8)\n",
    "\n",
    "DimPlot(micro.combined4, reduction = \"umap\",  label = F, pt.size=1.5, label.size=8,raster=T, group.by=\"Treatment\") + \n",
    "    theme_classic(base_size=20)+ \n",
    "    guides(color=guide_legend(title=\"Treatment\", override.aes = list(size=6)))\n",
    "\n"
   ]
  },
  {
   "cell_type": "code",
   "execution_count": null,
   "id": "c7827d82",
   "metadata": {},
   "outputs": [],
   "source": [
    "options(repr.plot.width=18, repr.plot.height=12)\n",
    "DimPlot(micro.combined4, reduction = \"umap\",  label = T, pt.size=3, label.size=8,raster=T, split.by = \"Library\", ncol = 3) + \n",
    "    theme_classic(base_size=20)+ \n",
    "    guides(color=guide_legend(title=\"Cluster\", override.aes = list(size=6)))\n"
   ]
  },
  {
   "cell_type": "code",
   "execution_count": null,
   "id": "0a24d281",
   "metadata": {},
   "outputs": [],
   "source": [
    "DimPlot(micro.combined4, reduction = \"umap\",  label = T, pt.size=1, label.size=10, split.by = 'hash.ID', ncol= 5) "
   ]
  },
  {
   "cell_type": "code",
   "execution_count": null,
   "id": "ad416187",
   "metadata": {},
   "outputs": [],
   "source": [
    "# Define cluster mapping\n",
    "cluster_mapping <- c(\n",
    "  \"0\" = \"HM\",\n",
    "  \"1\" = \"RM\",\n",
    "  \"2\" = \"CRM\",\n",
    "  \"3\" = \"DAM\",\n",
    "  \"4\" = \"tCRM\",\n",
    "  \"5\" = \"IRM\",\n",
    "  \"6\" = \"HLA\",\n",
    "  \"7\" = \"C3-high\"\n",
    ")\n",
    "\n",
    "# Assign cluster labels\n",
    "micro.combined4@meta.data$Cluster_coarse <- recode(\n",
    "  as.character(micro.combined4@meta.data$integrated_snn_res.0.25), \n",
    "  !!!cluster_mapping, .default = \"Prolif\"\n",
    ")\n"
   ]
  },
  {
   "cell_type": "code",
   "execution_count": null,
   "id": "3a11aebe",
   "metadata": {},
   "outputs": [],
   "source": [
    "# refactor \n",
    "\n",
    "micro.combined4@meta.data$Cluster_coarse  = factor(micro.combined4@meta.data$Cluster_coarse , \n",
    "                                                    levels = c(\"HM\", \"RM\", \"tCRM\", \n",
    "                                                                \"CRM\",\"DAM\", \"IRM\", \n",
    "                                                                \"HLA\",\"C3-high\", \"Prolif\"))"
   ]
  },
  {
   "cell_type": "code",
   "execution_count": null,
   "id": "f84ffad7",
   "metadata": {},
   "outputs": [],
   "source": [
    "options(repr.plot.width=11, repr.plot.height=9)\n",
    "\n",
    "DimPlot(micro.combined4, reduction = \"umap\",  label = T, pt.size=1.5, \n",
    "        label.size=8,raster=T, group.by = \"Cluster_coarse\") + \n",
    "    theme_void(base_size=26)+ \n",
    "    guides(color=guide_legend(title=\"Cluster\", override.aes = list(size=5))) + ggtitle(\"\")\n",
    "\n"
   ]
  },
  {
   "cell_type": "code",
   "execution_count": null,
   "id": "0be47955",
   "metadata": {},
   "outputs": [],
   "source": [
    "options(repr.plot.width=6, repr.plot.height=6)\n",
    "library(nebulosa)\n",
    "\n",
    "#calculate and plot densities\n",
    "\n",
    "micro.combined4@meta.data$Lec <- ifelse(micro.combined4@meta.data$Treatment == \"Lec\", 1, 0)\n",
    "\n",
    "plot_density(micro.combined4, \"Lec\", size=3, pal = 'civid') + ggtitle(\"Lec\")+ theme_void(base_size=19) + \n",
    "                     theme( plot.title = element_text(color=\"black\", size=18, face=\"bold\",  hjust = 0.5), \n",
    "                          legend.position = \"none\")  "
   ]
  },
  {
   "cell_type": "code",
   "execution_count": null,
   "id": "d4e50af1",
   "metadata": {},
   "outputs": [],
   "source": [
    "micro.combined4@meta.data$iGg1 <- ifelse(micro.combined4@meta.data$Treatment\n",
    "                                        == \"iGg1\", \n",
    "                                        1/nrow(subset(micro.combined4@meta.data, Treatment == \"iGg1\")),\n",
    "                                       0)\n",
    "\n",
    "plot_density(micro.combined4, \"iGg1\", size=3, pal = 'civid') + ggtitle(\"iGg1\")+ theme_void(base_size=19) + \n",
    "                     theme( plot.title = element_text(color=\"black\", size=18, face=\"bold\",  hjust = 0.5), \n",
    "                          legend.position = \"none\")  "
   ]
  },
  {
   "cell_type": "code",
   "execution_count": null,
   "id": "61309f3d",
   "metadata": {},
   "outputs": [],
   "source": [
    "DefaultAssay(micro.combined4) <- 'SCT'\n",
    "\n",
    "Idents(micro.combined4) <- micro.combined4@meta.data$Cluster_coarse\n",
    "\n",
    "micro.combined4 = PrepSCTFindMarkers(micro.combined4, assay = \"SCT\", verbose = TRUE)\n",
    "se.big.markers4_SCT <- FindAllMarkers(micro.combined4, logfc.threshold = 0.2, min.pct = 0.2, assay = \"SCT\", only.pos = TRUE)\n"
   ]
  },
  {
   "cell_type": "code",
   "execution_count": null,
   "id": "8af5015e",
   "metadata": {},
   "outputs": [],
   "source": [
    "se.big.markers.sig <- subset(se.big.markers4_SCT, p_val_adj < 0.05)"
   ]
  },
  {
   "cell_type": "code",
   "execution_count": null,
   "id": "9a1664a9",
   "metadata": {},
   "outputs": [],
   "source": [
    "library(dittoSeq)\n",
    "library(viridis)\n",
    "\n",
    "\n",
    "options(repr.plot.width=29, repr.plot.height=9, repr.res = 300)\n",
    "DefaultAssay(micro.combined4) <- 'RNA'\n",
    "\n",
    "se.big.markers.top6 <-se.big.markers.sig %>%\n",
    "    group_by(cluster) %>%\n",
    "    slice_max(n = 6, order_by = -p_val_adj) %>%\n",
    "    slice_max(n = 6, order_by = avg_log2FC)\n",
    "\n",
    "\n",
    "\n",
    "DotPlot(micro.combined4, features = unique(se.big.markers.top6$gene), \n",
    "        group.by = \"Cluster_coarse\", \n",
    "       col.min =-1, col.max = 2.2, dot.min = 0.05) + \n",
    "  geom_point(aes(size=pct.exp), shape = 21) +\n",
    "  scale_colour_viridis(option=\"inferno\", direction = -1) +\n",
    "  guides(size=guide_legend(override.aes=list(shape=21 , fill=\"white\")), \n",
    "        fill = guide_legend(title=\"Avg. Expr.\") )+ \n",
    "  scale_size(range = c(1,10)) +\n",
    "  theme_classic(base_size=25) +theme(\n",
    "      axis.text.x = element_text(size = 23, angle = 90, vjust = 0.7, hjust=0.95),\n",
    "      axis.text.y = element_text(size = 30)) + ylab(\"\") + xlab(\"\") +\n",
    "  labs(color = \"legend title\") + \n",
    "    geom_vline(xintercept = 6.5, linetype = 'dashed', linewidth = 0.3) + \n",
    "    geom_vline(xintercept = 12.5, linetype = 'dashed', linewidth = 0.3) + \n",
    "    geom_vline(xintercept = 18.5, linetype = 'dashed', linewidth = 0.3) + \n",
    "    geom_vline(xintercept = 23.5, linetype = 'dashed', linewidth = 0.3) + \n",
    "    geom_vline(xintercept = 29.5, linetype = 'dashed', linewidth = 0.3) +\n",
    "    geom_vline(xintercept = 35.5, linetype = 'dashed', linewidth = 0.3) +\n",
    "    geom_vline(xintercept = 40.5, linetype = 'dashed', linewidth = 0.3) +\n",
    "    geom_vline(xintercept = 46.5, linetype = 'dashed', linewidth = 0.3) \n",
    "\n",
    "\n",
    "#dev.off()"
   ]
  },
  {
   "cell_type": "code",
   "execution_count": null,
   "id": "15196aa8",
   "metadata": {},
   "outputs": [],
   "source": [
    "library(Seurat)\n",
    "library(RColorBrewer)\n",
    "library(gridExtra)\n",
    "library(ggplot2)\n",
    "\n",
    "# Set default assay\n",
    "DefaultAssay(micro.combined4) <- 'SCT'\n",
    "\n",
    "# Add module scores\n",
    "for (name in names(micro_states)) {\n",
    "  micro.combined4 <- AddModuleScore(micro.combined4, \n",
    "                                    features = list(micro_states[[name]]), \n",
    "                                    name = paste0(name, \"_enriched\"))\n",
    "}\n",
    "\n",
    "# Define signatures\n",
    "signatures <- paste0(names(micro_states), \"_enriched1\")\n",
    "\n",
    "\n",
    "# Generate feature plots\n",
    "options(repr.plot.width = 18.5, repr.plot.height = 15)\n",
    "\n",
    "plotlist <- lapply(signatures, function(sig) {\n",
    "  FeaturePlot(micro.combined4,\n",
    "              features = sig, min.cutoff = 'q1', max.cutoff = 'q99', reduction = \"umap\", \n",
    "              label = FALSE, pt.size = 0.7, repel = TRUE) +\n",
    "    scale_colour_gradientn(colours = rev(brewer.pal(n = 11, name = \"Spectral\"))) +  \n",
    "    theme_void(base_size = 20) + \n",
    "    theme(plot.title = element_text(hjust = 0.5, size = 20, face = \"bold\")) + \n",
    "    ggtitle(paste(\"Mancuso2024\", sig, sep = \"_\"))\n",
    "})\n",
    "\n",
    "# Arrange plots dynamically in a grid\n",
    "ncol <- 3  \n",
    "nrow <- ceiling(length(plotlist) / ncol)\n",
    "grid.arrange(grobs = plotlist, ncol = ncol, nrow = nrow)\n"
   ]
  },
  {
   "cell_type": "code",
   "execution_count": null,
   "id": "97955e6c",
   "metadata": {},
   "outputs": [],
   "source": [
    "saveRDS(micro.combined4, 'scrna_lecMicro_cleaned_integrated_sctransform.RDS')"
   ]
  },
  {
   "cell_type": "markdown",
   "id": "52efd74a",
   "metadata": {},
   "source": [
    "# Differential Expression Between Conditions and Analysis"
   ]
  },
  {
   "cell_type": "code",
   "execution_count": null,
   "id": "ca87009b",
   "metadata": {},
   "outputs": [],
   "source": [
    "Idents(micro.combined4) <- micro.combined4@meta.data$Treatment\n",
    "DefaultAssay(micro.combined4) <- 'SCT'\n",
    "\n",
    "micro.combined4 = PrepSCTFindMarkers(micro.combined4, assay = \"SCT\", verbose = TRUE)\n",
    "Lec_iGg1 = FindMarkers(micro.combined4, 'Lec', 'iGg1',  min.pct = 0.01, logfc.threshold = 0.005, assay = \"SCT\")\n",
    "\n"
   ]
  },
  {
   "cell_type": "code",
   "execution_count": null,
   "id": "3ee96e5e",
   "metadata": {},
   "outputs": [],
   "source": [
    "options(repr.plot.width=18, repr.plot.height=10)\n",
    "library(ggrepel)\n",
    "\n",
    "\n",
    "volPlot <- function(markers, colors) {\n",
    "    markers$X = rownames(markers)\n",
    "    \n",
    "\n",
    "    markers$X <- rownames(markers)\n",
    "    return(ggplot(markers, aes(x=avg_log2FC, y = -log10(p_val_adj),  \n",
    "                              label=ifelse(p_val_adj < 0.05 & abs(avg_log2FC) > 0.075,\n",
    "         X,\n",
    "         \"\"\n",
    "       ),  fill = factor(ifelse(\n",
    "                ((avg_log2FC < 0 & p_val_adj < 0.05))  ,\n",
    "                \"Down-regulated [166]\", ifelse((avg_log2FC > 0 & p_val_adj < 0.05),\n",
    "                    \"Up-regulated [126]\", \"NS\"\n",
    "         )))), key_glyph = draw_key_point, color=\"darkgrey\")+  \n",
    "           \n",
    "           scale_fill_manual(name = \"Direction (padj < 0.05)\",\n",
    "                     values = colors) + \n",
    "      \n",
    "           geom_point(size=4, shape=21, key_glyph = draw_key_point, stroke=0.1, color=\"grey2\") +\n",
    " \n",
    "            geom_hline(yintercept = 1.2, color = \"red\", linetype=\"dashed\") +\n",
    "      \n",
    "           geom_vline(xintercept = 0, color = \"black\", linetype=\"dashed\") +\n",
    "    \n",
    "           theme_bw(base_size=23) + \n",
    "          \n",
    "           geom_label_repel(size=5, max.overlaps=30, fill=NA, force = 0.4, nudge_y = -1)+\n",
    "          \n",
    "              scale_color_manual(name = \"Gene Set\", values=c(\"red\", \"blue\", NA,  NA))+\n",
    "            scale_alpha_manual(values=c(1,1,0,0), guide='none'))+\n",
    "\n",
    "    \n",
    "            xlab(\"\\n avg_log2FoldChange\") + ylab(\"-log10(padj) \\n\") +\n",
    "            guides(col = guide_legend(order = 1),fill = guide_legend(order = 2))\n",
    "    \n",
    "\n",
    "}\n",
    "\n",
    "cbPalette <- c(\"#56B4E9\", \"grey\", \"#E69F00\",\"#F0E442\", \"#0072B2\", \"#D55E00\", \"#CC79A7\")\n"
   ]
  },
  {
   "cell_type": "code",
   "execution_count": null,
   "id": "39d2b085",
   "metadata": {},
   "outputs": [],
   "source": [
    "options(repr.plot.width=18, repr.plot.height=10)\n",
    "\n",
    "volPlot(Lec_iGg1, c(\"black\", \"grey\",\"red\"))  + ggtitle(\"Lec vs. IgG1\")"
   ]
  },
  {
   "cell_type": "code",
   "execution_count": null,
   "id": "0ae01e5d",
   "metadata": {},
   "outputs": [],
   "source": []
  },
  {
   "cell_type": "code",
   "execution_count": null,
   "id": "b3b6fb02",
   "metadata": {},
   "outputs": [],
   "source": [
    "library(clusterProfiler)\n",
    "\n",
    "df = Lec_iGg1\n",
    "    df$X = rownames(df)\n",
    "    original_gene_list <- df$avg_log2FC\n",
    "    names(original_gene_list) <- df$X\n",
    "    gene_list<-na.omit(original_gene_list)\n",
    "    gene_list = sort(gene_list, decreasing = TRUE)\n",
    "\n",
    "# Convert gene IDs \n",
    "ids<-bitr(names(original_gene_list), fromType = \"SYMBOL\", toType = \"ENTREZID\", OrgDb=org.Hs.eg.db)\n",
    "dedup_ids = ids[!duplicated(ids[c(\"SYMBOL\")]),]\n",
    "\n",
    "df2 = df[df$X %in% dedup_ids$SYMBOL,]\n",
    "df2$Y = dedup_ids$ENTREZID\n",
    "\n",
    "# Create a vector of the gene unuiverse\n",
    "gene_list <- df2$avg_log2FC\n",
    "# Name vector with ENTREZ ids\n",
    "names(gene_list) <- df2$Y\n",
    "\n",
    "# omit any NA values \n",
    "gene_list<-na.omit(gene_list)\n",
    "\n",
    "# sort the list in decreasing order (required for clusterProfiler)\n",
    "gene_list = sort(gene_list, decreasing = TRUE)"
   ]
  },
  {
   "cell_type": "code",
   "execution_count": null,
   "id": "4d098360",
   "metadata": {},
   "outputs": [],
   "source": [
    "library(ReactomePA)\n",
    "\n",
    "y <- gsePathway(kegg_gene_list, \n",
    "                pvalueCutoff = 0.1,\n",
    "                pAdjustMethod = \"BH\", \n",
    "                verbose = FALSE)\n",
    "head(y,)"
   ]
  },
  {
   "cell_type": "code",
   "execution_count": null,
   "id": "84d7c031",
   "metadata": {},
   "outputs": [],
   "source": [
    "library(enrichplot)\n",
    "\n",
    "colour <- c(\"\\\\#1F78B4\", \"\\\\#E31A1C\", \"\\\\#A9A9A9\")\n",
    "      colour <- stringr::str_remove_all(colour, \".*#\") %>% paste0(\"#\", .)\n",
    "res = y@result\n",
    "\n",
    "res$Treatment = ifelse(res$NES > 0 & res$p.adjust < 0.05, \"Lec\", \n",
    "                   ifelse(res$NES < 0 & res$p.adjust < 0.05, \"IgG1\",\n",
    "                         \"C\"))\n",
    "\n",
    "options(repr.plot.width=22, repr.plot.height=16)\n",
    "ggplot(head(res, 46), aes(x = reorder(Description, -NES), y = NES, fill = Treatment)) +\n",
    "      geom_bar(stat = \"identity\", width = 0.8) +\n",
    "      scale_fill_manual(values = c(\"Lec\" = \"Red\", \"IgG1\" = \"Black\", \"C\" = colour[3])) +\n",
    "      scale_x_discrete(expand = expansion(add = .5)) +\n",
    "      scale_y_continuous(breaks = seq(\n",
    "        floor(min(res$NES)), ceiling(max(res$NES)),\n",
    "        ceiling((ceiling(max(res$NES)) - floor(min(res$NES))) / 6)\n",
    "      )) +\n",
    "      coord_flip() + theme_bw(base_size = 20) + ggtitle(\"GSEA Lec vs. IgG1: Reactome Pathways\") + xlab(\"\")\n"
   ]
  },
  {
   "cell_type": "markdown",
   "id": "d5b3b986",
   "metadata": {},
   "source": [
    "## MASC analysis for cell states"
   ]
  },
  {
   "cell_type": "code",
   "execution_count": null,
   "id": "d292c136",
   "metadata": {},
   "outputs": [],
   "source": [
    "library(lme4)\n"
   ]
  },
  {
   "cell_type": "code",
   "execution_count": null,
   "id": "48dd3f4a",
   "metadata": {},
   "outputs": [],
   "source": [
    "test.df = micro.combined4@meta.data[c('hash.ID', 'Cluster_coarse', 'Treatment')]\n",
    "test.df$Cluster_coarse = as.character(test.df$Cluster_coarse )\n",
    "test.df$Cluster_coarse = ifelse(test.df$Cluster_coarse == \"C3-high\", \"C3high\", test.df$Cluster_coarse)\n",
    "test.df$status = as.factor(test.df$Treatment)\n"
   ]
  },
  {
   "cell_type": "code",
   "execution_count": null,
   "id": "8ae05c15",
   "metadata": {},
   "outputs": [],
   "source": [
    "res_masc = MASC(data = test.df, cluster = test.df$Cluster_coarse, contrast = \"status\", random_effects = \"hash.ID\")\n",
    "res_masc$p.adjusted <- p.adjust(res_masc$model.pvalue, method = \"fdr\")\n"
   ]
  },
  {
   "cell_type": "code",
   "execution_count": null,
   "id": "5aaf58a8",
   "metadata": {},
   "outputs": [],
   "source": [
    "res_masc[c('model.pvalue', 'statusLec.OR', 'p.adjusted')]"
   ]
  },
  {
   "cell_type": "code",
   "execution_count": null,
   "id": "dd3081f3",
   "metadata": {},
   "outputs": [],
   "source": [
    "res_masc$OR_log = log(res_masc$statusLec.OR, base = 2)\n",
    "res_masc$lower_CI = log(res_masc$statusLec.OR.95pct.ci.lower, base = 2)\n",
    "res_masc$higher_CI = log(res_masc$statusLec.OR.95pct.ci.upper, base = 2)"
   ]
  },
  {
   "cell_type": "code",
   "execution_count": null,
   "id": "219f70c6",
   "metadata": {},
   "outputs": [],
   "source": [
    "res_masc$cluster = rownames(res_masc)\n",
    "res_masc$cluster = gsub(\"cluster\", \"\", res_masc$cluster)"
   ]
  },
  {
   "cell_type": "code",
   "execution_count": null,
   "id": "9a9cfa09",
   "metadata": {},
   "outputs": [],
   "source": [
    "res_masc$cluster  = factor(res_masc$cluster, levels = c(\"HM\",\"RM\",\"tCRM\", \"CRM\",\n",
    "                                                        \"DAM\",\"IRM\",\"HLA\",\"C3high\", \"Prolif\"))"
   ]
  }
 ],
 "metadata": {
  "kernelspec": {
   "display_name": "R_052023",
   "language": "R",
   "name": "r4_052023"
  },
  "language_info": {
   "codemirror_mode": "r",
   "file_extension": ".r",
   "mimetype": "text/x-r-source",
   "name": "R",
   "pygments_lexer": "r",
   "version": "4.2.3"
  }
 },
 "nbformat": 4,
 "nbformat_minor": 5
}
